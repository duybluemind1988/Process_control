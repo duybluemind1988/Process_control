{
 "cells": [
  {
   "cell_type": "code",
   "execution_count": 2,
   "metadata": {},
   "outputs": [
    {
     "data": {
      "text/plain": [
       "['//Vn01w2k16v18/data/Copyroom/Test_software/Data/Control plan/Control plan 3000\\\\Control Plan data REC 3000 - WK34 - 2020.xlsm',\n",
       " '//Vn01w2k16v18/data/Copyroom/Test_software/Data/Control plan/Control plan 3000\\\\Control Plan data REC 3000 - WK35 - 2020.xlsm',\n",
       " '//Vn01w2k16v18/data/Copyroom/Test_software/Data/Control plan/Control plan 3000\\\\Control Plan data REC 3000 - WK36 - 2020.xlsm',\n",
       " '//Vn01w2k16v18/data/Copyroom/Test_software/Data/Control plan/Control plan 3000\\\\Control Plan data REC 3000 - WK37 - 2020.xlsm']"
      ]
     },
     "execution_count": 2,
     "metadata": {},
     "output_type": "execute_result"
    }
   ],
   "source": [
    "import streamlit as st\n",
    "import seaborn as sns; sns.set()\n",
    "import pandas as pd\n",
    "import numpy as np\n",
    "\n",
    "import plotly.graph_objects as go\n",
    "from plotly.subplots import make_subplots\n",
    "#import statistics as st\n",
    "import warnings\n",
    "warnings.filterwarnings(\"ignore\")\n",
    "import glob\n",
    "import sys,os\n",
    "import xlrd\n",
    "\n",
    "#-----------------Design_layout main side-----------------#\n",
    "st.markdown('<style>h1{color: green;}</style>', unsafe_allow_html=True)\n",
    "st.title('Process quality control')\n",
    "\n",
    "st.subheader('Created by: DNN')\n",
    "st.header(\"Information\")\n",
    "\n",
    "#path='//Vn01w2k16v18/data/Copyroom/Test_software/Data/Control plan/Control plan 3000 (2019_2020)_2' #OK\n",
    "path='//Vn01w2k16v18/data/Copyroom/Test_software/Data/Control plan/Control plan 3000' #OK\n",
    "#path='//Vn01w2k16v18/data/Copyroom/Test_software/Data/Control plan/Control plan 2600 full 2020' #OK\n",
    "#path='//Vn01w2k16v18/data/Copyroom/Test_software/Data/Control plan/Control plan 2600' #OK\n",
    "#path='//Vn01w2k16v18/data/Copyroom/Test_software/Data/Control plan/Control plan E series' #OK\n",
    "#path='//Vn01w2k16v18/data/Copyroom/Test_software/Data/Control plan/Control plan 4000' #OK\n",
    "#path='//Vn01w2k16v18/data/Copyroom/Test_software/Data/Control plan/Control plan Mic 6500'\n",
    "#path='//Vn01w2k16v18/data/Copyroom/Test_software/Data/Control plan/Control plan Telecoil'\n",
    "#path='//Vn01w2k16v18/data/Copyroom/Test_software/Data/Control plan/Control plan VPU'\n",
    "text2= st.text_input(\"1. Please input folder name for data analysis (MUST)\",path)\n",
    "path=text2 +'/'\n",
    "#path='//Vn01w2k16v18/data/Copyroom/Test_software/Data/Membrane 3000S/'\n",
    "#st.write('path input: '+path)\n",
    "\n",
    "st.write('Accept any public folders like copy room or QA folder, currently not allow private folder')\n",
    "text3=st.text_input(\"2. Please input folder name for saving (option)\",'//Vn01w2k16v18/data/Copyroom/Test_software/Data/Save')\n",
    "path3=text3+'/'\n",
    "\n",
    "#-----------------Design_layout left side-----------------#\n",
    "st.sidebar.title(\"Help\")\n",
    "#st.sidebar.info(\"2. Number of Sample: all sample need to be measured each inspection\")\n",
    "st.sidebar.info(\"1. Folder name: Folder contains all excel file related to specific product\")\n",
    "st.sidebar.info(\"2. Name file: product name or item config for saving. Ex: Membrane_33AA079\")\n",
    "\n",
    "st.sidebar.title(\"About author\")\n",
    "st.sidebar.info(\"if you have questionns, please contact to DNN@sonion.com\")\n",
    "st.sidebar.title(\"Software\")\n",
    "st.sidebar.info(\"This web app was written by Python program language (offline mode). Please use\\\n",
    "                this app inside Sonion only\")\n",
    "#---------------sort file by created_time-------------------------# \n",
    "\n",
    "#path='//Vn01w2k16v18/data/Copyroom/Test_software/Data/Control plan/Control plan 3000'\n",
    "#path='//Vn01w2k16v18/data/Copyroom/Test_software/Data/Control plan/Control plan 2600'\n",
    "#path='//Vn01w2k16v18/data/Copyroom/Test_software/Data/Control plan/Control plan E series'\n",
    "path=path+'/'\n",
    "#print(path)\n",
    "all_files1=glob.glob(path + '*.xlsx')\n",
    "all_files2=glob.glob(path + '*.xlsm')\n",
    "all_files=all_files1+all_files2\n",
    "#sort file in directory by reverse:\n",
    "all_files = sorted(all_files, reverse = False)\n",
    "st.text('number of files: '+str(len(all_files)))\n",
    "st.text(all_files)\n",
    "all_files"
   ]
  },
  {
   "cell_type": "code",
   "execution_count": 29,
   "metadata": {},
   "outputs": [
    {
     "name": "stdout",
     "output_type": "stream",
     "text": [
      "WK34 - 2020 --------------------\n",
      "WK34 - 2020 []\n",
      "WK35 - 2020 --------------------\n",
      "WK35 - 2020 []\n",
      "WK36 - 2020 --------------------\n",
      "WK36 - 2020 []\n",
      "WK37 - 2020 --------------------\n",
      "WK37 - 2020 []\n"
     ]
    }
   ],
   "source": [
    "#---------------process data-------------------------# \n",
    "#@st.cache(suppress_st_warning=True,allow_output_mutation=True)\n",
    "\n",
    "all_process_week={}\n",
    "for path_name in all_files: # read each excel file\n",
    "  week_name=path_name[-16:-5]\n",
    "  print(week_name,'-'*20)\n",
    "  xls = xlrd.open_workbook(path_name, on_demand=True)\n",
    "  sheet_names=xls.sheet_names()\n",
    "  #print(xls.sheet_names())\n",
    "  sheet_dict={}\n",
    "  xls = pd.ExcelFile(path_name) \n",
    "  for name in sheet_names: # read each sheet in excel file\n",
    "    sheet_dict[name] = pd.read_excel(xls, name)\n",
    "    #sheet_dict[name].to_excel(name+'.xlsx')\n",
    "  #break\n",
    "  # Get master list sheet 14/12/2020\n",
    "  #Master_list_name=list(sheet_dict.keys())[0] \n",
    "  #Master_sheet=sheet_dict[Master_list_name]\n",
    "  # Read all process in one week\n",
    "  sheet_all={} # most important (reset sheet_all to empty)\n",
    "  sheet_error=[]\n",
    "  for name_sheet in sheet_names[1:]: # read each sheet name (process)\n",
    "    #if name_sheet!='39682': continue # debug each name sheet\n",
    "    #print(name_sheet)\n",
    "    sheet=sheet_dict[name_sheet]\n",
    "    #Get process name base on name sheet: 14/12/2020\n",
    "    #process_name=Master_sheet.loc[Master_sheet['Unnamed: 1'] == name_sheet][\"Unnamed: 4\"].values[0]\n",
    "    #print(process_name)\n",
    "    # find begin and end col\n",
    "    row_contain_feature_column = 22\n",
    "    values_col=sheet.iloc[row_contain_feature_column,:]\n",
    "    values_col.reset_index(drop=True,inplace=True)  # Date, MSVN, DIM A,B,C....\n",
    "    #print(values_col)\n",
    "    #if values_col.str.contains('Check')==True:\n",
    "    #    begin_col=values_col[values_col.str.contains('Check')==True]\n",
    "    begin_col=values_col[values_col.str.contains('Dime')==True].index #sửa lại ngày 2/11/2021, begin col la col bat dau lay du lieu\n",
    "    begin_col=begin_col+1\n",
    "    end_col=values_col[values_col.str.contains('MSNV|OP')==True].index # end coil la col dung lai sau khi ket thuc lay du lieu\n",
    "    #print(begin_col,end_col)\n",
    "    #if (not begin_col.values or not end_col.values):continue\n",
    "    if (not begin_col.values):continue # Nếu không có giá trị (ví dụ như đo khối lương, ko phải dime) thì bỏ quan\n",
    "    #print(begin_col,end_col)\n",
    "    #print(begin_col[0])\n",
    "\n",
    "    df_dict={} # add all value, USL, LSL, UCL... in each process sheet\n",
    "    #try:\n",
    "    for name in sheet.columns[begin_col[0]:end_col[-1]]: # all dim in each process (dim a, b, c,d ....)\n",
    "      dim_name=sheet[name][row_contain_feature_column]\n",
    "      #print(dim_name)\n",
    "      df=pd.DataFrame()\n",
    "      df_dict[dim_name]={}  \n",
    "\n",
    "      #tolerance_dict[sheet[name][22]]=[sheet[name][24],sheet[name][23]]  \n",
    "      try:  \n",
    "          column_hour = 9\n",
    "          row_start_value = 25\n",
    "          df['Hour']=sheet[sheet.columns[column_hour]][row_start_value:]\n",
    "          #print('df Date-------------')\n",
    "          #print(df['Date'])\n",
    "          # convert hour  \n",
    "          df['Hour']=df['Hour'].apply(lambda x: x.strftime(\"%Y %m %d %H\")) # group theo hour, gần như trùng với tần suất lấy mẫu đo control plan\n",
    "          df['Hour']=pd.to_datetime(df['Hour'])\n",
    "      except:\n",
    "        continue\n",
    "      \n",
    "      df['Value']=sheet[name][row_start_value:]\n",
    "      #print('df Value-------------')\n",
    "      #print(df['Value'])\n",
    "      #if np.std(df.Value) == 0: # chuyển qua dim khac nếu các giá trị là giống nhau\n",
    "      #  continue\n",
    "      #print('susessful')\n",
    "      row_contain_usl = 23\n",
    "      row_contain_lsl = 24  \n",
    "      if isinstance(sheet[name][row_contain_usl],str): continue #check string USL\n",
    "      if isinstance(sheet[name][row_contain_usl],str): continue #check string LSL      \n",
    "      df['USL']=sheet[name][row_contain_usl] # max\n",
    "      df['LSL']=sheet[name][row_contain_lsl] # min\n",
    "      #print(df['USL'],df['LSL'])  \n",
    "      df.dropna(subset=['Value'],inplace=True)\n",
    "      df=df[pd.to_numeric(df['Value'], errors='coerce').notnull()] # loai bo tat ca not numeric value truoc khi convert\n",
    "      #df=df[df.columns[1:]].apply(pd.to_numeric, errors='coerce').dropna() # loai bo tat ca not numeric value truoc khi convert\n",
    "      df[df.columns[1:]]=df[df.columns[1:]].astype('float32')\n",
    "\n",
    "      #print('df--------------')\n",
    "      #print(df)    \n",
    "      #print('final df dict-------')\n",
    "      #print(dim_name)\n",
    "      df_dict[dim_name]=df.reset_index(drop=True)  \n",
    "      #print(df_dict)\n",
    "    #except Exception as e:\n",
    "        #exc_type, exc_obj, exc_tb = sys.exc_info()\n",
    "        #fname = os.path.split(exc_tb.tb_frame.f_code.co_filename)[1]\n",
    "        #sheet_error.append(name_sheet)\n",
    "        #continue\n",
    "    sheet_all[name_sheet]=df_dict # add each process name to shee_all dict each week\n",
    "    #print('all process and dim each week-----------------------')\n",
    "    #print(sheet_all)\n",
    "    #sheet_all chi chứa name_sheet (process), khong chứa dim name nếu như không có dữ liệu, lưu ý thông tin này khi concat dữ liệu dưới đây\n",
    "  all_process_week[week_name]=sheet_all\n",
    "  print(week_name,sheet_error)\n",
    "\n",
    "\n",
    "all_process_week2=all_process_week # Run function above"
   ]
  },
  {
   "cell_type": "code",
   "execution_count": 30,
   "metadata": {},
   "outputs": [
    {
     "name": "stdout",
     "output_type": "stream",
     "text": [
      "WK34 - 2020 --------------------\n",
      "WK35 - 2020 --------------------\n",
      "WK36 - 2020 --------------------\n"
     ]
    }
   ],
   "source": [
    "#-----------Concat all week to one base week-------------------------#\n",
    "import copy\n",
    "#@st.cache(suppress_st_warning=True,allow_output_mutation=True)\n",
    "def concat_baseweek(all_process_week):\n",
    "    base_week={}\n",
    "    base_week=copy.deepcopy(all_process_week[list(all_process_week.keys())[-1]]) # must have copy()\n",
    "    #print(len(base_week))\n",
    "    # concat all process in each weeks based on keys value:\n",
    "    for week_name in list(all_process_week.keys())[:-1]: # ko tính base week nên trừ 1: \n",
    "      print(week_name,'-'*20)  \n",
    "      other_week=all_process_week[week_name]\n",
    "      for process_name in other_week.keys(): # dict all process\n",
    "        #if process_name!='39682': continue # for debug only\n",
    "        #print(process_name)\n",
    "        for process_name_base in base_week.keys(): # dict all process\n",
    "            if process_name_base==process_name: # Neu process name trung voi base week thi concat\n",
    "              #print('Thuc hien lenh concat')  \n",
    "              for dim_name in base_week[process_name_base].keys(): # concat dim trong process base week voi cac week khac nhau\n",
    "                 for other_week_dim_name in other_week[process_name_base].keys(): \n",
    "                    if dim_name==other_week_dim_name:\n",
    "                         # Neu trong other week khong do dim trong base week thi xu ly the nao ?   \n",
    "                         #print(dim_name)\n",
    "                         if len(base_week[process_name_base][dim_name]) == 0:\n",
    "                             base_week[process_name_base][dim_name] = pd.DataFrame.from_dict(base_week[process_name_base][dim_name])\n",
    "                         if len(other_week[process_name_base][dim_name]) == 0:\n",
    "                            other_week[process_name_base][dim_name] = pd.DataFrame.from_dict(other_week[process_name_base][dim_name])\n",
    "                    \n",
    "                         #try:  \n",
    "                             #base_week[process_name_base][dim_name]=pd.concat([base_week[process_name_base][dim_name],other_week[process_name_base][dim_name]])\n",
    "                         base_week[process_name_base][dim_name]=base_week[process_name_base][dim_name].append(other_week[process_name_base][dim_name]) # include empty dataframe\n",
    "                         #print('3. a------------')\n",
    "                         #print(a)\n",
    "                         #except:continue\n",
    "    #return base_week # for debug only    \n",
    "    #end here     # for debug only\n",
    "    #print('Check len all dim in base week for remove zero dim and zero process')\n",
    "    process_name_list=[]\n",
    "    dim_name_list=[]\n",
    "    dim_len_list=[]\n",
    "    for process_name in base_week.keys(): # all process \n",
    "      #print(process_name)\n",
    "      for dim_name in base_week[process_name].keys(): # all dim in each process\n",
    "        dim_len=len(base_week[process_name][dim_name])\n",
    "        #print(dim_name)\n",
    "        #print(dim_len)\n",
    "        process_name_list.append(process_name)\n",
    "        dim_name_list.append(dim_name)\n",
    "        dim_len_list.append(dim_len)\n",
    "    dim_and_len_df =pd.DataFrame(list(zip(process_name_list,dim_name_list,dim_len_list)),\n",
    "                             columns=['Process_Name','Dim_name','Len'])\n",
    "    dim_and_len_df.sort_values(by='Len')\n",
    "    # Remove all dim with len = 0\n",
    "    #print('---------All remove process with dim len = 0---------')\n",
    "    for i in range(len(dim_and_len_df)):\n",
    "      if dim_and_len_df.loc[i].Len==0:\n",
    "        Process_Name=dim_and_len_df.loc[i].Process_Name\n",
    "        Dim_name=dim_and_len_df.loc[i].Dim_name\n",
    "        #print(Process_Name,Dim_name)\n",
    "        base_week[Process_Name].pop(Dim_name,None)\n",
    "    # Remove all process with no dim:\n",
    "    all_base_week_process_list=list(base_week.keys())\n",
    "    for process_name in all_base_week_process_list:\n",
    "      if len(base_week[process_name]) == 0 :\n",
    "        base_week.pop(process_name,None)\n",
    "    return base_week\n",
    "\n",
    "final_data=concat_baseweek(all_process_week2)    "
   ]
  },
  {
   "cell_type": "code",
   "execution_count": null,
   "metadata": {},
   "outputs": [],
   "source": [
    "#final_data[\"39682\"]"
   ]
  },
  {
   "cell_type": "code",
   "execution_count": 37,
   "metadata": {},
   "outputs": [],
   "source": [
    "def process_performance(df):\n",
    "  constants={\n",
    "    2:1.128,3:1.693,4:2.059,5:2.326,6:2.534,7:2.704,8:2.847, 9: 2.970,10: 3.078,\n",
    "    11: 3.173,12: 3.258,13: 3.336,14: 3.407,15: 3.472,16: 3.532,17:3.588,18:3.640,\n",
    "    19:3.689,20:3.735,\n",
    "    }  \n",
    "  #print('dim: ',name)\n",
    "  n=df.Hour.value_counts()[0]\n",
    "  num_sample=n*25\n",
    "  df_temp=df[-num_sample:]\n",
    "  df_temp=df_temp.reset_index(drop=True)\n",
    "  usl=df_temp.USL[0]\n",
    "  lsl=df_temp.LSL[0]\n",
    "  m=df_temp.Value.mean() \n",
    "\n",
    "  #Ppk\n",
    "  sigma=np.std(df.Value)\n",
    "  Pp = float(usl - lsl) / (6*sigma)\n",
    "  Ppu = float(usl - m) / (3*sigma)\n",
    "  Ppl = float(m - lsl) / (3*sigma)\n",
    "  Ppk = np.min([Ppu, Ppl])\n",
    "  #print('Pp:{:.2f} , Ppk: {:.2f}'.format(Pp,Ppk))\n",
    "\n",
    "  #UCL, LCL, Mean\n",
    "  k=3\n",
    "  df['UCL']=df_temp['Hour'].mean() + sigma*k\n",
    "  df['LCL']=df_temp['Hour'].mean() - sigma*k\n",
    "  df['Mean']=df_temp['Hour'].mean()\n",
    "  #Cpk\n",
    "  \n",
    "  temp=df_temp.groupby('Hour').agg({'Value':['min','max']})\n",
    "  temp['Range']=temp['Value','max']-temp['Value','min']\n",
    "  Range=temp['Range'].mean()\n",
    "\n",
    "  if n <= 20:\n",
    "    sigma_within = Range/constants[n]\n",
    "  else:\n",
    "    sigma_within = Range/constants[20]\n",
    "\n",
    "  Cp = float(usl - lsl) / (6*sigma_within)\n",
    "  Cpu = float(usl - m) / (3*sigma_within)\n",
    "  Cpl = float(m - lsl) / (3*sigma_within)\n",
    "  Cpk = np.min([Cpu, Cpl])\n",
    "  #print('Cp:{:.2f} , Cpk:{:.2f}'.format(Cp,Cpk))\n",
    "  if np.isnan(usl):\n",
    "    Cpk=Cpl\n",
    "    Ppk=Ppl\n",
    "  elif np.isnan(lsl):\n",
    "    Cpk=Cpu\n",
    "    Ppk=Ppu\n",
    "  else:\n",
    "    Cpk = np.min([Cpu, Cpl])\n",
    "    Ppk = np.min([Ppu, Ppl])\n",
    "  #print(Ppk,Cpk)\n",
    "  Cp=round(Cp,2)\n",
    "  Cpk=round(Cpk,2)\n",
    "  Pp=round(Pp,2)\n",
    "  Ppk=round(Ppk,2)\n",
    "  return Cp,Cpk,Pp,Ppk"
   ]
  },
  {
   "cell_type": "code",
   "execution_count": 38,
   "metadata": {},
   "outputs": [],
   "source": [
    "def create_process_indicator(base_week): \n",
    "\n",
    "    process_indicator_dict={}\n",
    "    process_indicator_df=pd.DataFrame(columns=['Process_name','Dim_name','Cp','Pp','Cpk','Ppk'])\n",
    "    #process_indicator_df.columns=['Dim','Cp','Cpk','Pb','Ppk']\n",
    "    i=0\n",
    "    for process_name in list(base_week.keys()):\n",
    "      #print(process_name)\n",
    "      df_dict=base_week[process_name]\n",
    "      for dim_name in list(df_dict.keys()): #also group\n",
    "        #print(dim_name)\n",
    "        df=df_dict[dim_name]\n",
    "        #print(dim_name)\n",
    "        try: # debug purpose\n",
    "            Cp,Cpk,Pp,Ppk=process_performance(df) \n",
    "        except:\n",
    "            continue # sigma = 0 phai continue de tranh dung chuong trinh\n",
    "            #print(process_name)\n",
    "            #print(dim_name)\n",
    "            #print(df)\n",
    "        #process_indicator_dict[process_name]=[dim_name,Cp,Pp,Cpk,Ppk]\n",
    "        process_indicator_df.loc[i]=process_name,dim_name,Cp, Pp, Cpk, Ppk\n",
    "        i+=1\n",
    "\n",
    "    #process_indicator_df=process_indicator_df.sort_values(by='Ppk').reset_index(drop=True)\n",
    "\n",
    "    #conver process indicator dict to list name:\n",
    "    name_list_dict={} # key: process name, value: list all dim in process name\n",
    "\n",
    "    a=process_indicator_df\n",
    "    for process_name in list(base_week.keys()):\n",
    "      dim_infor_string_list=[]\n",
    "      for dim_name in list(base_week[process_name].keys()):\n",
    "        try:  \n",
    "            dim_infor_string=str(dim_name) + ' Cp: ' + str(a[(a.Process_name==process_name) & (a.Dim_name==dim_name)]['Cp'].values[0]) + ' Pp: '+ \\\n",
    "            str(a[(a.Process_name==process_name) & (a.Dim_name==dim_name)]['Pp'].values[0]) +' Cpk: ' \\\n",
    "            + str(a[(a.Process_name==process_name) & (a.Dim_name==dim_name)]['Cpk'].values[0]) +' Ppk: '+ \\\n",
    "            str(a[(a.Process_name==process_name) & (a.Dim_name==dim_name)]['Ppk'].values[0]) \n",
    "    \n",
    "            dim_infor_string_list.append(dim_infor_string)\n",
    "        except: # if no process indicator (sigma=0, no Cp, Cpk...) so need continue (he qua cua try except tren)\n",
    "            continue\n",
    "\n",
    "      name_list_dict[process_name]=dim_infor_string_list\n",
    "      #name_list.append(dim_name)\n",
    "    return  process_indicator_df,name_list_dict"
   ]
  },
  {
   "cell_type": "code",
   "execution_count": 39,
   "metadata": {},
   "outputs": [
    {
     "data": {
      "text/html": [
       "<div>\n",
       "<style scoped>\n",
       "    .dataframe tbody tr th:only-of-type {\n",
       "        vertical-align: middle;\n",
       "    }\n",
       "\n",
       "    .dataframe tbody tr th {\n",
       "        vertical-align: top;\n",
       "    }\n",
       "\n",
       "    .dataframe thead th {\n",
       "        text-align: right;\n",
       "    }\n",
       "</style>\n",
       "<table border=\"1\" class=\"dataframe\">\n",
       "  <thead>\n",
       "    <tr style=\"text-align: right;\">\n",
       "      <th></th>\n",
       "      <th>Process_name</th>\n",
       "      <th>Dim_name</th>\n",
       "      <th>Cp</th>\n",
       "      <th>Pp</th>\n",
       "      <th>Cpk</th>\n",
       "      <th>Ppk</th>\n",
       "    </tr>\n",
       "  </thead>\n",
       "  <tbody>\n",
       "  </tbody>\n",
       "</table>\n",
       "</div>"
      ],
      "text/plain": [
       "Empty DataFrame\n",
       "Columns: [Process_name, Dim_name, Cp, Pp, Cpk, Ppk]\n",
       "Index: []"
      ]
     },
     "execution_count": 39,
     "metadata": {},
     "output_type": "execute_result"
    }
   ],
   "source": [
    "process_indicator_df,name_list_dict= create_process_indicator(final_data)\n",
    "process_indicator_df"
   ]
  },
  {
   "cell_type": "code",
   "execution_count": null,
   "metadata": {},
   "outputs": [],
   "source": [
    "final_data # Co them USL, LSL va Mean, Ko ro tu dau ra"
   ]
  },
  {
   "cell_type": "code",
   "execution_count": 41,
   "metadata": {},
   "outputs": [],
   "source": [
    "limit=1.00\n",
    "limit=float(limit)\n",
    "def hightlight_price(row):\n",
    "    ret = [\"\" for _ in row.index]\n",
    "    if row.Cpk < limit or row.Ppk < limit:\n",
    "      ret[row.index.get_loc(\"Process_name\")] = \"background-color: yellow\"\n",
    "      ret[row.index.get_loc(\"Dim_name\")] = \"background-color: yellow\"\n",
    "    if row.Cpk < limit:    \n",
    "      ret[row.index.get_loc(\"Cpk\")] = \"background-color: yellow\"\n",
    "    if row.Ppk < limit:  \n",
    "      ret[row.index.get_loc(\"Ppk\")] = \"background-color: yellow\"\n",
    "    return ret\n",
    "def highlight_process_indicator(process_indicator_df): \n",
    "    return process_indicator_df.style.apply(hightlight_price, axis=1)"
   ]
  },
  {
   "cell_type": "code",
   "execution_count": 27,
   "metadata": {},
   "outputs": [],
   "source": [
    "#process_indicator_df=highlight_process_indicator(process_indicator_df)\n",
    "#process_indicator_df"
   ]
  },
  {
   "cell_type": "code",
   "execution_count": 42,
   "metadata": {},
   "outputs": [],
   "source": [
    "def configure_plotly_browser_state():\n",
    "    import IPython\n",
    "    display(IPython.core.display.HTML('''\n",
    "        <script src=\"/static/components/requirejs/require.js\"></script>\n",
    "        <script>\n",
    "          requirejs.config({\n",
    "            paths: {\n",
    "              base: '/static/base',\n",
    "              plotly: 'https://cdn.plot.ly/plotly-latest.min.js?noext',\n",
    "            },\n",
    "          });\n",
    "        </script>\n",
    "        '''))"
   ]
  },
  {
   "cell_type": "code",
   "execution_count": 47,
   "metadata": {},
   "outputs": [
    {
     "data": {
      "text/html": [
       "\n",
       "        <script src=\"/static/components/requirejs/require.js\"></script>\n",
       "        <script>\n",
       "          requirejs.config({\n",
       "            paths: {\n",
       "              base: '/static/base',\n",
       "              plotly: 'https://cdn.plot.ly/plotly-latest.min.js?noext',\n",
       "            },\n",
       "          });\n",
       "        </script>\n",
       "        "
      ],
      "text/plain": [
       "<IPython.core.display.HTML object>"
      ]
     },
     "metadata": {},
     "output_type": "display_data"
    },
    {
     "data": {
      "application/vnd.plotly.v1+json": {
       "config": {
        "plotlyServerURL": "https://plot.ly"
       },
       "data": [
        {
         "line": {
          "color": "#4280F5"
         },
         "mode": "lines+markers",
         "name": "mean ",
         "type": "scatter",
         "x": [
          "2020-08-20T09:00:00",
          "2020-08-22T17:00:00",
          "2020-08-24T12:00:00",
          "2020-08-24T18:00:00",
          "2020-08-27T08:00:00",
          "2020-08-28T17:00:00",
          "2020-08-29T12:00:00",
          "2020-08-31T16:00:00",
          "2020-09-07T09:00:00",
          "2020-09-08T20:00:00"
         ],
         "xaxis": "x",
         "y": [
          3.7173333168029785,
          3.7170000076293945,
          3.7160000801086426,
          3.7056667804718018,
          3.7196667194366455,
          3.7079999446868896,
          3.7119998931884766,
          3.7126665115356445,
          3.7186667919158936,
          3.7103333473205566
         ],
         "yaxis": "y"
        },
        {
         "line": {
          "color": "#FF5733"
         },
         "mode": "lines",
         "name": "USL ",
         "type": "scatter",
         "x": [
          "2020-08-20T09:00:00",
          "2020-08-22T17:00:00",
          "2020-08-24T12:00:00",
          "2020-08-24T18:00:00",
          "2020-08-27T08:00:00",
          "2020-08-28T17:00:00",
          "2020-08-29T12:00:00",
          "2020-08-31T16:00:00",
          "2020-09-07T09:00:00",
          "2020-09-08T20:00:00"
         ],
         "xaxis": "x",
         "y": [
          3.7200000286102295,
          3.7200000286102295,
          3.7200000286102295,
          3.7200000286102295,
          3.7200000286102295,
          3.7200000286102295,
          3.7200000286102295,
          3.7200000286102295,
          3.7200000286102295,
          3.7200000286102295
         ],
         "yaxis": "y"
        },
        {
         "line": {
          "color": "#FF5733"
         },
         "mode": "lines",
         "name": "LSL ",
         "type": "scatter",
         "x": [
          "2020-08-20T09:00:00",
          "2020-08-22T17:00:00",
          "2020-08-24T12:00:00",
          "2020-08-24T18:00:00",
          "2020-08-27T08:00:00",
          "2020-08-28T17:00:00",
          "2020-08-29T12:00:00",
          "2020-08-31T16:00:00",
          "2020-09-07T09:00:00",
          "2020-09-08T20:00:00"
         ],
         "xaxis": "x",
         "y": [
          3.700000047683716,
          3.700000047683716,
          3.700000047683716,
          3.700000047683716,
          3.700000047683716,
          3.700000047683716,
          3.700000047683716,
          3.700000047683716,
          3.700000047683716,
          3.700000047683716
         ],
         "yaxis": "y"
        },
        {
         "line": {
          "color": "#33C2FF"
         },
         "mode": "lines",
         "name": "UCL ",
         "type": "scatter",
         "x": [
          "2020-08-20T09:00:00",
          "2020-08-22T17:00:00",
          "2020-08-24T12:00:00",
          "2020-08-24T18:00:00",
          "2020-08-27T08:00:00",
          "2020-08-28T17:00:00",
          "2020-08-29T12:00:00",
          "2020-08-31T16:00:00",
          "2020-09-07T09:00:00",
          "2020-09-08T20:00:00"
         ],
         "xaxis": "x",
         "y": [
          3.73,
          3.73,
          3.73,
          3.73,
          3.73,
          3.73,
          3.73,
          3.73,
          3.73,
          3.73
         ],
         "yaxis": "y"
        },
        {
         "line": {
          "color": "#33C2FF"
         },
         "mode": "lines",
         "name": "LCL ",
         "type": "scatter",
         "x": [
          "2020-08-20T09:00:00",
          "2020-08-22T17:00:00",
          "2020-08-24T12:00:00",
          "2020-08-24T18:00:00",
          "2020-08-27T08:00:00",
          "2020-08-28T17:00:00",
          "2020-08-29T12:00:00",
          "2020-08-31T16:00:00",
          "2020-09-07T09:00:00",
          "2020-09-08T20:00:00"
         ],
         "xaxis": "x",
         "y": [
          3.6970000000000005,
          3.6970000000000005,
          3.6970000000000005,
          3.6970000000000005,
          3.6970000000000005,
          3.6970000000000005,
          3.6970000000000005,
          3.6970000000000005,
          3.6970000000000005,
          3.6970000000000005
         ],
         "yaxis": "y"
        },
        {
         "line": {
          "color": "#33C2FF"
         },
         "mode": "lines",
         "name": "Mean ",
         "type": "scatter",
         "x": [
          "2020-08-20T09:00:00",
          "2020-08-22T17:00:00",
          "2020-08-24T12:00:00",
          "2020-08-24T18:00:00",
          "2020-08-27T08:00:00",
          "2020-08-28T17:00:00",
          "2020-08-29T12:00:00",
          "2020-08-31T16:00:00",
          "2020-09-07T09:00:00",
          "2020-09-08T20:00:00"
         ],
         "xaxis": "x",
         "y": [
          3.714,
          3.714,
          3.714,
          3.714,
          3.714,
          3.714,
          3.714,
          3.714,
          3.714,
          3.714
         ],
         "yaxis": "y"
        },
        {
         "line": {
          "color": "#4280F5"
         },
         "mode": "lines+markers",
         "name": "mean ",
         "type": "scatter",
         "x": [
          "2020-08-20T09:00:00",
          "2020-08-22T17:00:00",
          "2020-08-24T12:00:00",
          "2020-08-24T18:00:00",
          "2020-08-27T08:00:00",
          "2020-08-28T17:00:00",
          "2020-08-29T12:00:00",
          "2020-08-31T16:00:00",
          "2020-09-07T09:00:00",
          "2020-09-08T20:00:00"
         ],
         "xaxis": "x2",
         "y": [
          7.515666961669922,
          7.514333248138428,
          7.514999866485596,
          7.509666442871094,
          7.517000198364258,
          7.51366662979126,
          7.507333278656006,
          7.514666557312012,
          7.515666484832764,
          7.517666816711426
         ],
         "yaxis": "y2"
        },
        {
         "line": {
          "color": "#FF5733"
         },
         "mode": "lines",
         "name": "USL ",
         "type": "scatter",
         "x": [
          "2020-08-20T09:00:00",
          "2020-08-22T17:00:00",
          "2020-08-24T12:00:00",
          "2020-08-24T18:00:00",
          "2020-08-27T08:00:00",
          "2020-08-28T17:00:00",
          "2020-08-29T12:00:00",
          "2020-08-31T16:00:00",
          "2020-09-07T09:00:00",
          "2020-09-08T20:00:00"
         ],
         "xaxis": "x2",
         "y": [
          7.519999980926514,
          7.519999980926514,
          7.519999980926514,
          7.519999980926514,
          7.519999980926514,
          7.519999980926514,
          7.519999980926514,
          7.519999980926514,
          7.519999980926514,
          7.519999980926514
         ],
         "yaxis": "y2"
        },
        {
         "line": {
          "color": "#FF5733"
         },
         "mode": "lines",
         "name": "LSL ",
         "type": "scatter",
         "x": [
          "2020-08-20T09:00:00",
          "2020-08-22T17:00:00",
          "2020-08-24T12:00:00",
          "2020-08-24T18:00:00",
          "2020-08-27T08:00:00",
          "2020-08-28T17:00:00",
          "2020-08-29T12:00:00",
          "2020-08-31T16:00:00",
          "2020-09-07T09:00:00",
          "2020-09-08T20:00:00"
         ],
         "xaxis": "x2",
         "y": [
          7.5,
          7.5,
          7.5,
          7.5,
          7.5,
          7.5,
          7.5,
          7.5,
          7.5,
          7.5
         ],
         "yaxis": "y2"
        },
        {
         "line": {
          "color": "#33C2FF"
         },
         "mode": "lines",
         "name": "UCL ",
         "type": "scatter",
         "x": [
          "2020-08-20T09:00:00",
          "2020-08-22T17:00:00",
          "2020-08-24T12:00:00",
          "2020-08-24T18:00:00",
          "2020-08-27T08:00:00",
          "2020-08-28T17:00:00",
          "2020-08-29T12:00:00",
          "2020-08-31T16:00:00",
          "2020-09-07T09:00:00",
          "2020-09-08T20:00:00"
         ],
         "xaxis": "x2",
         "y": [
          7.528,
          7.528,
          7.528,
          7.528,
          7.528,
          7.528,
          7.528,
          7.528,
          7.528,
          7.528
         ],
         "yaxis": "y2"
        },
        {
         "line": {
          "color": "#33C2FF"
         },
         "mode": "lines",
         "name": "LCL ",
         "type": "scatter",
         "x": [
          "2020-08-20T09:00:00",
          "2020-08-22T17:00:00",
          "2020-08-24T12:00:00",
          "2020-08-24T18:00:00",
          "2020-08-27T08:00:00",
          "2020-08-28T17:00:00",
          "2020-08-29T12:00:00",
          "2020-08-31T16:00:00",
          "2020-09-07T09:00:00",
          "2020-09-08T20:00:00"
         ],
         "xaxis": "x2",
         "y": [
          7.5,
          7.5,
          7.5,
          7.5,
          7.5,
          7.5,
          7.5,
          7.5,
          7.5,
          7.5
         ],
         "yaxis": "y2"
        },
        {
         "line": {
          "color": "#33C2FF"
         },
         "mode": "lines",
         "name": "Mean ",
         "type": "scatter",
         "x": [
          "2020-08-20T09:00:00",
          "2020-08-22T17:00:00",
          "2020-08-24T12:00:00",
          "2020-08-24T18:00:00",
          "2020-08-27T08:00:00",
          "2020-08-28T17:00:00",
          "2020-08-29T12:00:00",
          "2020-08-31T16:00:00",
          "2020-09-07T09:00:00",
          "2020-09-08T20:00:00"
         ],
         "xaxis": "x2",
         "y": [
          7.514,
          7.514,
          7.514,
          7.514,
          7.514,
          7.514,
          7.514,
          7.514,
          7.514,
          7.514
         ],
         "yaxis": "y2"
        },
        {
         "line": {
          "color": "#4280F5"
         },
         "mode": "lines+markers",
         "name": "mean ",
         "type": "scatter",
         "x": [
          "2020-08-20T09:00:00",
          "2020-08-22T17:00:00",
          "2020-08-24T12:00:00",
          "2020-08-24T18:00:00",
          "2020-08-27T08:00:00",
          "2020-08-28T17:00:00",
          "2020-08-29T12:00:00",
          "2020-08-31T16:00:00",
          "2020-09-07T09:00:00",
          "2020-09-08T20:00:00"
         ],
         "xaxis": "x3",
         "y": [
          0.32600000500679016,
          0.3330000042915344,
          0.32420000433921814,
          0.3229999840259552,
          0.3203999996185303,
          0.33239999413490295,
          0.326200008392334,
          0.3294000029563904,
          0.32339999079704285,
          0.33079999685287476
         ],
         "yaxis": "y3"
        },
        {
         "line": {
          "color": "#FF5733"
         },
         "mode": "lines",
         "name": "USL ",
         "type": "scatter",
         "x": [
          "2020-08-20T09:00:00",
          "2020-08-22T17:00:00",
          "2020-08-24T12:00:00",
          "2020-08-24T18:00:00",
          "2020-08-27T08:00:00",
          "2020-08-28T17:00:00",
          "2020-08-29T12:00:00",
          "2020-08-31T16:00:00",
          "2020-09-07T09:00:00",
          "2020-09-08T20:00:00"
         ],
         "xaxis": "x3",
         "y": [
          0.3400000035762787,
          0.3400000035762787,
          0.3400000035762787,
          0.3400000035762787,
          0.3400000035762787,
          0.3400000035762787,
          0.3400000035762787,
          0.3400000035762787,
          0.3400000035762787,
          0.3400000035762787
         ],
         "yaxis": "y3"
        },
        {
         "line": {
          "color": "#FF5733"
         },
         "mode": "lines",
         "name": "LSL ",
         "type": "scatter",
         "x": [
          "2020-08-20T09:00:00",
          "2020-08-22T17:00:00",
          "2020-08-24T12:00:00",
          "2020-08-24T18:00:00",
          "2020-08-27T08:00:00",
          "2020-08-28T17:00:00",
          "2020-08-29T12:00:00",
          "2020-08-31T16:00:00",
          "2020-09-07T09:00:00",
          "2020-09-08T20:00:00"
         ],
         "xaxis": "x3",
         "y": [
          0.30000001192092896,
          0.30000001192092896,
          0.30000001192092896,
          0.30000001192092896,
          0.30000001192092896,
          0.30000001192092896,
          0.30000001192092896,
          0.30000001192092896,
          0.30000001192092896,
          0.30000001192092896
         ],
         "yaxis": "y3"
        },
        {
         "line": {
          "color": "#33C2FF"
         },
         "mode": "lines",
         "name": "UCL ",
         "type": "scatter",
         "x": [
          "2020-08-20T09:00:00",
          "2020-08-22T17:00:00",
          "2020-08-24T12:00:00",
          "2020-08-24T18:00:00",
          "2020-08-27T08:00:00",
          "2020-08-28T17:00:00",
          "2020-08-29T12:00:00",
          "2020-08-31T16:00:00",
          "2020-09-07T09:00:00",
          "2020-09-08T20:00:00"
         ],
         "xaxis": "x3",
         "y": [
          0.351,
          0.351,
          0.351,
          0.351,
          0.351,
          0.351,
          0.351,
          0.351,
          0.351,
          0.351
         ],
         "yaxis": "y3"
        },
        {
         "line": {
          "color": "#33C2FF"
         },
         "mode": "lines",
         "name": "LCL ",
         "type": "scatter",
         "x": [
          "2020-08-20T09:00:00",
          "2020-08-22T17:00:00",
          "2020-08-24T12:00:00",
          "2020-08-24T18:00:00",
          "2020-08-27T08:00:00",
          "2020-08-28T17:00:00",
          "2020-08-29T12:00:00",
          "2020-08-31T16:00:00",
          "2020-09-07T09:00:00",
          "2020-09-08T20:00:00"
         ],
         "xaxis": "x3",
         "y": [
          0.303,
          0.303,
          0.303,
          0.303,
          0.303,
          0.303,
          0.303,
          0.303,
          0.303,
          0.303
         ],
         "yaxis": "y3"
        },
        {
         "line": {
          "color": "#33C2FF"
         },
         "mode": "lines",
         "name": "Mean ",
         "type": "scatter",
         "x": [
          "2020-08-20T09:00:00",
          "2020-08-22T17:00:00",
          "2020-08-24T12:00:00",
          "2020-08-24T18:00:00",
          "2020-08-27T08:00:00",
          "2020-08-28T17:00:00",
          "2020-08-29T12:00:00",
          "2020-08-31T16:00:00",
          "2020-09-07T09:00:00",
          "2020-09-08T20:00:00"
         ],
         "xaxis": "x3",
         "y": [
          0.327,
          0.327,
          0.327,
          0.327,
          0.327,
          0.327,
          0.327,
          0.327,
          0.327,
          0.327
         ],
         "yaxis": "y3"
        },
        {
         "line": {
          "color": "#4280F5"
         },
         "mode": "lines+markers",
         "name": "mean ",
         "type": "scatter",
         "x": [
          "2020-08-20T09:00:00",
          "2020-08-22T17:00:00",
          "2020-08-24T12:00:00",
          "2020-08-24T18:00:00",
          "2020-08-27T08:00:00",
          "2020-08-28T17:00:00",
          "2020-08-29T12:00:00",
          "2020-08-31T16:00:00",
          "2020-09-07T09:00:00",
          "2020-09-08T20:00:00"
         ],
         "xaxis": "x4",
         "y": [
          0.47380000352859497,
          0.47760000824928284,
          0.47920000553131104,
          0.483599990606308,
          0.4758000075817108,
          0.4812000095844269,
          0.47600001096725464,
          0.4765999913215637,
          0.4697999954223633,
          0.4758000075817108
         ],
         "yaxis": "y4"
        },
        {
         "line": {
          "color": "#FF5733"
         },
         "mode": "lines",
         "name": "USL ",
         "type": "scatter",
         "x": [
          "2020-08-20T09:00:00",
          "2020-08-22T17:00:00",
          "2020-08-24T12:00:00",
          "2020-08-24T18:00:00",
          "2020-08-27T08:00:00",
          "2020-08-28T17:00:00",
          "2020-08-29T12:00:00",
          "2020-08-31T16:00:00",
          "2020-09-07T09:00:00",
          "2020-09-08T20:00:00"
         ],
         "xaxis": "x4",
         "y": [
          0.49000000953674316,
          0.49000000953674316,
          0.49000000953674316,
          0.49000000953674316,
          0.49000000953674316,
          0.49000000953674316,
          0.49000000953674316,
          0.49000000953674316,
          0.49000000953674316,
          0.49000000953674316
         ],
         "yaxis": "y4"
        },
        {
         "line": {
          "color": "#FF5733"
         },
         "mode": "lines",
         "name": "LSL ",
         "type": "scatter",
         "x": [
          "2020-08-20T09:00:00",
          "2020-08-22T17:00:00",
          "2020-08-24T12:00:00",
          "2020-08-24T18:00:00",
          "2020-08-27T08:00:00",
          "2020-08-28T17:00:00",
          "2020-08-29T12:00:00",
          "2020-08-31T16:00:00",
          "2020-09-07T09:00:00",
          "2020-09-08T20:00:00"
         ],
         "xaxis": "x4",
         "y": [
          0.44999998807907104,
          0.44999998807907104,
          0.44999998807907104,
          0.44999998807907104,
          0.44999998807907104,
          0.44999998807907104,
          0.44999998807907104,
          0.44999998807907104,
          0.44999998807907104,
          0.44999998807907104
         ],
         "yaxis": "y4"
        },
        {
         "line": {
          "color": "#33C2FF"
         },
         "mode": "lines",
         "name": "UCL ",
         "type": "scatter",
         "x": [
          "2020-08-20T09:00:00",
          "2020-08-22T17:00:00",
          "2020-08-24T12:00:00",
          "2020-08-24T18:00:00",
          "2020-08-27T08:00:00",
          "2020-08-28T17:00:00",
          "2020-08-29T12:00:00",
          "2020-08-31T16:00:00",
          "2020-09-07T09:00:00",
          "2020-09-08T20:00:00"
         ],
         "xaxis": "x4",
         "y": [
          0.499,
          0.499,
          0.499,
          0.499,
          0.499,
          0.499,
          0.499,
          0.499,
          0.499,
          0.499
         ],
         "yaxis": "y4"
        },
        {
         "line": {
          "color": "#33C2FF"
         },
         "mode": "lines",
         "name": "LCL ",
         "type": "scatter",
         "x": [
          "2020-08-20T09:00:00",
          "2020-08-22T17:00:00",
          "2020-08-24T12:00:00",
          "2020-08-24T18:00:00",
          "2020-08-27T08:00:00",
          "2020-08-28T17:00:00",
          "2020-08-29T12:00:00",
          "2020-08-31T16:00:00",
          "2020-09-07T09:00:00",
          "2020-09-08T20:00:00"
         ],
         "xaxis": "x4",
         "y": [
          0.45499999999999996,
          0.45499999999999996,
          0.45499999999999996,
          0.45499999999999996,
          0.45499999999999996,
          0.45499999999999996,
          0.45499999999999996,
          0.45499999999999996,
          0.45499999999999996,
          0.45499999999999996
         ],
         "yaxis": "y4"
        },
        {
         "line": {
          "color": "#33C2FF"
         },
         "mode": "lines",
         "name": "Mean ",
         "type": "scatter",
         "x": [
          "2020-08-20T09:00:00",
          "2020-08-22T17:00:00",
          "2020-08-24T12:00:00",
          "2020-08-24T18:00:00",
          "2020-08-27T08:00:00",
          "2020-08-28T17:00:00",
          "2020-08-29T12:00:00",
          "2020-08-31T16:00:00",
          "2020-09-07T09:00:00",
          "2020-09-08T20:00:00"
         ],
         "xaxis": "x4",
         "y": [
          0.477,
          0.477,
          0.477,
          0.477,
          0.477,
          0.477,
          0.477,
          0.477,
          0.477,
          0.477
         ],
         "yaxis": "y4"
        },
        {
         "line": {
          "color": "#4280F5"
         },
         "mode": "lines+markers",
         "name": "mean ",
         "type": "scatter",
         "x": [
          "2020-08-20T09:00:00",
          "2020-08-22T16:00:00",
          "2020-08-22T17:00:00",
          "2020-08-24T12:00:00",
          "2020-08-24T17:00:00",
          "2020-08-24T18:00:00",
          "2020-08-27T08:00:00",
          "2020-08-28T17:00:00",
          "2020-08-29T12:00:00",
          "2020-08-31T16:00:00",
          "2020-09-07T09:00:00",
          "2020-09-08T20:00:00"
         ],
         "xaxis": "x5",
         "y": [
          0.04933333396911621,
          0.026000000536441803,
          0.029200000688433647,
          0.030666666105389595,
          0.00800000037997961,
          0.02239999920129776,
          0.011666666716337204,
          0.03316666558384895,
          0.028833333402872086,
          0.033666666597127914,
          0.019999999552965164,
          0.047333333641290665
         ],
         "yaxis": "y5"
        },
        {
         "line": {
          "color": "#FF5733"
         },
         "mode": "lines",
         "name": "USL ",
         "type": "scatter",
         "x": [
          "2020-08-20T09:00:00",
          "2020-08-22T16:00:00",
          "2020-08-22T17:00:00",
          "2020-08-24T12:00:00",
          "2020-08-24T17:00:00",
          "2020-08-24T18:00:00",
          "2020-08-27T08:00:00",
          "2020-08-28T17:00:00",
          "2020-08-29T12:00:00",
          "2020-08-31T16:00:00",
          "2020-09-07T09:00:00",
          "2020-09-08T20:00:00"
         ],
         "xaxis": "x5",
         "y": [
          0.05999999865889549,
          0.05999999865889549,
          0.05999999865889549,
          0.05999999865889549,
          0.05999999865889549,
          0.05999999865889549,
          0.05999999865889549,
          0.05999999865889549,
          0.05999999865889549,
          0.05999999865889549,
          0.05999999865889549,
          0.05999999865889549
         ],
         "yaxis": "y5"
        },
        {
         "line": {
          "color": "#FF5733"
         },
         "mode": "lines",
         "name": "LSL ",
         "type": "scatter",
         "x": [
          "2020-08-20T09:00:00",
          "2020-08-22T16:00:00",
          "2020-08-22T17:00:00",
          "2020-08-24T12:00:00",
          "2020-08-24T17:00:00",
          "2020-08-24T18:00:00",
          "2020-08-27T08:00:00",
          "2020-08-28T17:00:00",
          "2020-08-29T12:00:00",
          "2020-08-31T16:00:00",
          "2020-09-07T09:00:00",
          "2020-09-08T20:00:00"
         ],
         "xaxis": "x5",
         "y": [
          null,
          null,
          null,
          null,
          null,
          null,
          null,
          null,
          null,
          null,
          null,
          null
         ],
         "yaxis": "y5"
        },
        {
         "line": {
          "color": "#33C2FF"
         },
         "mode": "lines",
         "name": "UCL ",
         "type": "scatter",
         "x": [
          "2020-08-20T09:00:00",
          "2020-08-22T16:00:00",
          "2020-08-22T17:00:00",
          "2020-08-24T12:00:00",
          "2020-08-24T17:00:00",
          "2020-08-24T18:00:00",
          "2020-08-27T08:00:00",
          "2020-08-28T17:00:00",
          "2020-08-29T12:00:00",
          "2020-08-31T16:00:00",
          "2020-09-07T09:00:00",
          "2020-09-08T20:00:00"
         ],
         "xaxis": "x5",
         "y": [
          0.081,
          0.081,
          0.081,
          0.081,
          0.081,
          0.081,
          0.081,
          0.081,
          0.081,
          0.081,
          0.081,
          0.081
         ],
         "yaxis": "y5"
        },
        {
         "line": {
          "color": "#33C2FF"
         },
         "mode": "lines",
         "name": "LCL ",
         "type": "scatter",
         "x": [
          "2020-08-20T09:00:00",
          "2020-08-22T16:00:00",
          "2020-08-22T17:00:00",
          "2020-08-24T12:00:00",
          "2020-08-24T17:00:00",
          "2020-08-24T18:00:00",
          "2020-08-27T08:00:00",
          "2020-08-28T17:00:00",
          "2020-08-29T12:00:00",
          "2020-08-31T16:00:00",
          "2020-09-07T09:00:00",
          "2020-09-08T20:00:00"
         ],
         "xaxis": "x5",
         "y": [
          -0.02,
          -0.02,
          -0.02,
          -0.02,
          -0.02,
          -0.02,
          -0.02,
          -0.02,
          -0.02,
          -0.02,
          -0.02,
          -0.02
         ],
         "yaxis": "y5"
        },
        {
         "line": {
          "color": "#33C2FF"
         },
         "mode": "lines",
         "name": "Mean ",
         "type": "scatter",
         "x": [
          "2020-08-20T09:00:00",
          "2020-08-22T16:00:00",
          "2020-08-22T17:00:00",
          "2020-08-24T12:00:00",
          "2020-08-24T17:00:00",
          "2020-08-24T18:00:00",
          "2020-08-27T08:00:00",
          "2020-08-28T17:00:00",
          "2020-08-29T12:00:00",
          "2020-08-31T16:00:00",
          "2020-09-07T09:00:00",
          "2020-09-08T20:00:00"
         ],
         "xaxis": "x5",
         "y": [
          0.03,
          0.03,
          0.03,
          0.03,
          0.03,
          0.03,
          0.03,
          0.03,
          0.03,
          0.03,
          0.03,
          0.03
         ],
         "yaxis": "y5"
        }
       ],
       "layout": {
        "height": 1000,
        "template": {
         "data": {
          "bar": [
           {
            "error_x": {
             "color": "#2a3f5f"
            },
            "error_y": {
             "color": "#2a3f5f"
            },
            "marker": {
             "line": {
              "color": "#E5ECF6",
              "width": 0.5
             }
            },
            "type": "bar"
           }
          ],
          "barpolar": [
           {
            "marker": {
             "line": {
              "color": "#E5ECF6",
              "width": 0.5
             }
            },
            "type": "barpolar"
           }
          ],
          "carpet": [
           {
            "aaxis": {
             "endlinecolor": "#2a3f5f",
             "gridcolor": "white",
             "linecolor": "white",
             "minorgridcolor": "white",
             "startlinecolor": "#2a3f5f"
            },
            "baxis": {
             "endlinecolor": "#2a3f5f",
             "gridcolor": "white",
             "linecolor": "white",
             "minorgridcolor": "white",
             "startlinecolor": "#2a3f5f"
            },
            "type": "carpet"
           }
          ],
          "choropleth": [
           {
            "colorbar": {
             "outlinewidth": 0,
             "ticks": ""
            },
            "type": "choropleth"
           }
          ],
          "contour": [
           {
            "colorbar": {
             "outlinewidth": 0,
             "ticks": ""
            },
            "colorscale": [
             [
              0,
              "#0d0887"
             ],
             [
              0.1111111111111111,
              "#46039f"
             ],
             [
              0.2222222222222222,
              "#7201a8"
             ],
             [
              0.3333333333333333,
              "#9c179e"
             ],
             [
              0.4444444444444444,
              "#bd3786"
             ],
             [
              0.5555555555555556,
              "#d8576b"
             ],
             [
              0.6666666666666666,
              "#ed7953"
             ],
             [
              0.7777777777777778,
              "#fb9f3a"
             ],
             [
              0.8888888888888888,
              "#fdca26"
             ],
             [
              1,
              "#f0f921"
             ]
            ],
            "type": "contour"
           }
          ],
          "contourcarpet": [
           {
            "colorbar": {
             "outlinewidth": 0,
             "ticks": ""
            },
            "type": "contourcarpet"
           }
          ],
          "heatmap": [
           {
            "colorbar": {
             "outlinewidth": 0,
             "ticks": ""
            },
            "colorscale": [
             [
              0,
              "#0d0887"
             ],
             [
              0.1111111111111111,
              "#46039f"
             ],
             [
              0.2222222222222222,
              "#7201a8"
             ],
             [
              0.3333333333333333,
              "#9c179e"
             ],
             [
              0.4444444444444444,
              "#bd3786"
             ],
             [
              0.5555555555555556,
              "#d8576b"
             ],
             [
              0.6666666666666666,
              "#ed7953"
             ],
             [
              0.7777777777777778,
              "#fb9f3a"
             ],
             [
              0.8888888888888888,
              "#fdca26"
             ],
             [
              1,
              "#f0f921"
             ]
            ],
            "type": "heatmap"
           }
          ],
          "heatmapgl": [
           {
            "colorbar": {
             "outlinewidth": 0,
             "ticks": ""
            },
            "colorscale": [
             [
              0,
              "#0d0887"
             ],
             [
              0.1111111111111111,
              "#46039f"
             ],
             [
              0.2222222222222222,
              "#7201a8"
             ],
             [
              0.3333333333333333,
              "#9c179e"
             ],
             [
              0.4444444444444444,
              "#bd3786"
             ],
             [
              0.5555555555555556,
              "#d8576b"
             ],
             [
              0.6666666666666666,
              "#ed7953"
             ],
             [
              0.7777777777777778,
              "#fb9f3a"
             ],
             [
              0.8888888888888888,
              "#fdca26"
             ],
             [
              1,
              "#f0f921"
             ]
            ],
            "type": "heatmapgl"
           }
          ],
          "histogram": [
           {
            "marker": {
             "colorbar": {
              "outlinewidth": 0,
              "ticks": ""
             }
            },
            "type": "histogram"
           }
          ],
          "histogram2d": [
           {
            "colorbar": {
             "outlinewidth": 0,
             "ticks": ""
            },
            "colorscale": [
             [
              0,
              "#0d0887"
             ],
             [
              0.1111111111111111,
              "#46039f"
             ],
             [
              0.2222222222222222,
              "#7201a8"
             ],
             [
              0.3333333333333333,
              "#9c179e"
             ],
             [
              0.4444444444444444,
              "#bd3786"
             ],
             [
              0.5555555555555556,
              "#d8576b"
             ],
             [
              0.6666666666666666,
              "#ed7953"
             ],
             [
              0.7777777777777778,
              "#fb9f3a"
             ],
             [
              0.8888888888888888,
              "#fdca26"
             ],
             [
              1,
              "#f0f921"
             ]
            ],
            "type": "histogram2d"
           }
          ],
          "histogram2dcontour": [
           {
            "colorbar": {
             "outlinewidth": 0,
             "ticks": ""
            },
            "colorscale": [
             [
              0,
              "#0d0887"
             ],
             [
              0.1111111111111111,
              "#46039f"
             ],
             [
              0.2222222222222222,
              "#7201a8"
             ],
             [
              0.3333333333333333,
              "#9c179e"
             ],
             [
              0.4444444444444444,
              "#bd3786"
             ],
             [
              0.5555555555555556,
              "#d8576b"
             ],
             [
              0.6666666666666666,
              "#ed7953"
             ],
             [
              0.7777777777777778,
              "#fb9f3a"
             ],
             [
              0.8888888888888888,
              "#fdca26"
             ],
             [
              1,
              "#f0f921"
             ]
            ],
            "type": "histogram2dcontour"
           }
          ],
          "mesh3d": [
           {
            "colorbar": {
             "outlinewidth": 0,
             "ticks": ""
            },
            "type": "mesh3d"
           }
          ],
          "parcoords": [
           {
            "line": {
             "colorbar": {
              "outlinewidth": 0,
              "ticks": ""
             }
            },
            "type": "parcoords"
           }
          ],
          "pie": [
           {
            "automargin": true,
            "type": "pie"
           }
          ],
          "scatter": [
           {
            "marker": {
             "colorbar": {
              "outlinewidth": 0,
              "ticks": ""
             }
            },
            "type": "scatter"
           }
          ],
          "scatter3d": [
           {
            "line": {
             "colorbar": {
              "outlinewidth": 0,
              "ticks": ""
             }
            },
            "marker": {
             "colorbar": {
              "outlinewidth": 0,
              "ticks": ""
             }
            },
            "type": "scatter3d"
           }
          ],
          "scattercarpet": [
           {
            "marker": {
             "colorbar": {
              "outlinewidth": 0,
              "ticks": ""
             }
            },
            "type": "scattercarpet"
           }
          ],
          "scattergeo": [
           {
            "marker": {
             "colorbar": {
              "outlinewidth": 0,
              "ticks": ""
             }
            },
            "type": "scattergeo"
           }
          ],
          "scattergl": [
           {
            "marker": {
             "colorbar": {
              "outlinewidth": 0,
              "ticks": ""
             }
            },
            "type": "scattergl"
           }
          ],
          "scattermapbox": [
           {
            "marker": {
             "colorbar": {
              "outlinewidth": 0,
              "ticks": ""
             }
            },
            "type": "scattermapbox"
           }
          ],
          "scatterpolar": [
           {
            "marker": {
             "colorbar": {
              "outlinewidth": 0,
              "ticks": ""
             }
            },
            "type": "scatterpolar"
           }
          ],
          "scatterpolargl": [
           {
            "marker": {
             "colorbar": {
              "outlinewidth": 0,
              "ticks": ""
             }
            },
            "type": "scatterpolargl"
           }
          ],
          "scatterternary": [
           {
            "marker": {
             "colorbar": {
              "outlinewidth": 0,
              "ticks": ""
             }
            },
            "type": "scatterternary"
           }
          ],
          "surface": [
           {
            "colorbar": {
             "outlinewidth": 0,
             "ticks": ""
            },
            "colorscale": [
             [
              0,
              "#0d0887"
             ],
             [
              0.1111111111111111,
              "#46039f"
             ],
             [
              0.2222222222222222,
              "#7201a8"
             ],
             [
              0.3333333333333333,
              "#9c179e"
             ],
             [
              0.4444444444444444,
              "#bd3786"
             ],
             [
              0.5555555555555556,
              "#d8576b"
             ],
             [
              0.6666666666666666,
              "#ed7953"
             ],
             [
              0.7777777777777778,
              "#fb9f3a"
             ],
             [
              0.8888888888888888,
              "#fdca26"
             ],
             [
              1,
              "#f0f921"
             ]
            ],
            "type": "surface"
           }
          ],
          "table": [
           {
            "cells": {
             "fill": {
              "color": "#EBF0F8"
             },
             "line": {
              "color": "white"
             }
            },
            "header": {
             "fill": {
              "color": "#C8D4E3"
             },
             "line": {
              "color": "white"
             }
            },
            "type": "table"
           }
          ]
         },
         "layout": {
          "annotationdefaults": {
           "arrowcolor": "#2a3f5f",
           "arrowhead": 0,
           "arrowwidth": 1
          },
          "coloraxis": {
           "colorbar": {
            "outlinewidth": 0,
            "ticks": ""
           }
          },
          "colorscale": {
           "diverging": [
            [
             0,
             "#8e0152"
            ],
            [
             0.1,
             "#c51b7d"
            ],
            [
             0.2,
             "#de77ae"
            ],
            [
             0.3,
             "#f1b6da"
            ],
            [
             0.4,
             "#fde0ef"
            ],
            [
             0.5,
             "#f7f7f7"
            ],
            [
             0.6,
             "#e6f5d0"
            ],
            [
             0.7,
             "#b8e186"
            ],
            [
             0.8,
             "#7fbc41"
            ],
            [
             0.9,
             "#4d9221"
            ],
            [
             1,
             "#276419"
            ]
           ],
           "sequential": [
            [
             0,
             "#0d0887"
            ],
            [
             0.1111111111111111,
             "#46039f"
            ],
            [
             0.2222222222222222,
             "#7201a8"
            ],
            [
             0.3333333333333333,
             "#9c179e"
            ],
            [
             0.4444444444444444,
             "#bd3786"
            ],
            [
             0.5555555555555556,
             "#d8576b"
            ],
            [
             0.6666666666666666,
             "#ed7953"
            ],
            [
             0.7777777777777778,
             "#fb9f3a"
            ],
            [
             0.8888888888888888,
             "#fdca26"
            ],
            [
             1,
             "#f0f921"
            ]
           ],
           "sequentialminus": [
            [
             0,
             "#0d0887"
            ],
            [
             0.1111111111111111,
             "#46039f"
            ],
            [
             0.2222222222222222,
             "#7201a8"
            ],
            [
             0.3333333333333333,
             "#9c179e"
            ],
            [
             0.4444444444444444,
             "#bd3786"
            ],
            [
             0.5555555555555556,
             "#d8576b"
            ],
            [
             0.6666666666666666,
             "#ed7953"
            ],
            [
             0.7777777777777778,
             "#fb9f3a"
            ],
            [
             0.8888888888888888,
             "#fdca26"
            ],
            [
             1,
             "#f0f921"
            ]
           ]
          },
          "colorway": [
           "#636efa",
           "#EF553B",
           "#00cc96",
           "#ab63fa",
           "#FFA15A",
           "#19d3f3",
           "#FF6692",
           "#B6E880",
           "#FF97FF",
           "#FECB52"
          ],
          "font": {
           "color": "#2a3f5f"
          },
          "geo": {
           "bgcolor": "white",
           "lakecolor": "white",
           "landcolor": "#E5ECF6",
           "showlakes": true,
           "showland": true,
           "subunitcolor": "white"
          },
          "hoverlabel": {
           "align": "left"
          },
          "hovermode": "closest",
          "mapbox": {
           "style": "light"
          },
          "paper_bgcolor": "white",
          "plot_bgcolor": "#E5ECF6",
          "polar": {
           "angularaxis": {
            "gridcolor": "white",
            "linecolor": "white",
            "ticks": ""
           },
           "bgcolor": "#E5ECF6",
           "radialaxis": {
            "gridcolor": "white",
            "linecolor": "white",
            "ticks": ""
           }
          },
          "scene": {
           "xaxis": {
            "backgroundcolor": "#E5ECF6",
            "gridcolor": "white",
            "gridwidth": 2,
            "linecolor": "white",
            "showbackground": true,
            "ticks": "",
            "zerolinecolor": "white"
           },
           "yaxis": {
            "backgroundcolor": "#E5ECF6",
            "gridcolor": "white",
            "gridwidth": 2,
            "linecolor": "white",
            "showbackground": true,
            "ticks": "",
            "zerolinecolor": "white"
           },
           "zaxis": {
            "backgroundcolor": "#E5ECF6",
            "gridcolor": "white",
            "gridwidth": 2,
            "linecolor": "white",
            "showbackground": true,
            "ticks": "",
            "zerolinecolor": "white"
           }
          },
          "shapedefaults": {
           "line": {
            "color": "#2a3f5f"
           }
          },
          "ternary": {
           "aaxis": {
            "gridcolor": "white",
            "linecolor": "white",
            "ticks": ""
           },
           "baxis": {
            "gridcolor": "white",
            "linecolor": "white",
            "ticks": ""
           },
           "bgcolor": "#E5ECF6",
           "caxis": {
            "gridcolor": "white",
            "linecolor": "white",
            "ticks": ""
           }
          },
          "title": {
           "x": 0.05
          },
          "xaxis": {
           "automargin": true,
           "gridcolor": "white",
           "linecolor": "white",
           "ticks": "",
           "title": {
            "standoff": 15
           },
           "zerolinecolor": "white",
           "zerolinewidth": 2
          },
          "yaxis": {
           "automargin": true,
           "gridcolor": "white",
           "linecolor": "white",
           "ticks": "",
           "title": {
            "standoff": 15
           },
           "zerolinecolor": "white",
           "zerolinewidth": 2
          }
         }
        },
        "title": {
         "text": "Process: 39682"
        },
        "width": 1200,
        "xaxis": {
         "anchor": "y",
         "domain": [
          0,
          1
         ]
        },
        "xaxis2": {
         "anchor": "y2",
         "domain": [
          0,
          1
         ]
        },
        "xaxis3": {
         "anchor": "y3",
         "domain": [
          0,
          1
         ]
        },
        "xaxis4": {
         "anchor": "y4",
         "domain": [
          0,
          1
         ]
        },
        "xaxis5": {
         "anchor": "y5",
         "domain": [
          0,
          1
         ]
        },
        "yaxis": {
         "anchor": "x",
         "domain": [
          0.88,
          1
         ]
        },
        "yaxis2": {
         "anchor": "x2",
         "domain": [
          0.66,
          0.78
         ]
        },
        "yaxis3": {
         "anchor": "x3",
         "domain": [
          0.44,
          0.56
         ]
        },
        "yaxis4": {
         "anchor": "x4",
         "domain": [
          0.22,
          0.33999999999999997
         ]
        },
        "yaxis5": {
         "anchor": "x5",
         "domain": [
          0,
          0.12
         ]
        }
       }
      },
      "text/html": [
       "<div>\n",
       "        \n",
       "        \n",
       "            <div id=\"69e7662d-308c-4e26-800b-68f3ee2938d7\" class=\"plotly-graph-div\" style=\"height:1000px; width:1200px;\"></div>\n",
       "            <script type=\"text/javascript\">\n",
       "                require([\"plotly\"], function(Plotly) {\n",
       "                    window.PLOTLYENV=window.PLOTLYENV || {};\n",
       "                    \n",
       "                if (document.getElementById(\"69e7662d-308c-4e26-800b-68f3ee2938d7\")) {\n",
       "                    Plotly.newPlot(\n",
       "                        '69e7662d-308c-4e26-800b-68f3ee2938d7',\n",
       "                        [{\"line\": {\"color\": \"#4280F5\"}, \"mode\": \"lines+markers\", \"name\": \"mean \", \"type\": \"scatter\", \"x\": [\"2020-08-20T09:00:00\", \"2020-08-22T17:00:00\", \"2020-08-24T12:00:00\", \"2020-08-24T18:00:00\", \"2020-08-27T08:00:00\", \"2020-08-28T17:00:00\", \"2020-08-29T12:00:00\", \"2020-08-31T16:00:00\", \"2020-09-07T09:00:00\", \"2020-09-08T20:00:00\"], \"xaxis\": \"x\", \"y\": [3.7173333168029785, 3.7170000076293945, 3.7160000801086426, 3.7056667804718018, 3.7196667194366455, 3.7079999446868896, 3.7119998931884766, 3.7126665115356445, 3.7186667919158936, 3.7103333473205566], \"yaxis\": \"y\"}, {\"line\": {\"color\": \"#FF5733\"}, \"mode\": \"lines\", \"name\": \"USL \", \"type\": \"scatter\", \"x\": [\"2020-08-20T09:00:00\", \"2020-08-22T17:00:00\", \"2020-08-24T12:00:00\", \"2020-08-24T18:00:00\", \"2020-08-27T08:00:00\", \"2020-08-28T17:00:00\", \"2020-08-29T12:00:00\", \"2020-08-31T16:00:00\", \"2020-09-07T09:00:00\", \"2020-09-08T20:00:00\"], \"xaxis\": \"x\", \"y\": [3.7200000286102295, 3.7200000286102295, 3.7200000286102295, 3.7200000286102295, 3.7200000286102295, 3.7200000286102295, 3.7200000286102295, 3.7200000286102295, 3.7200000286102295, 3.7200000286102295], \"yaxis\": \"y\"}, {\"line\": {\"color\": \"#FF5733\"}, \"mode\": \"lines\", \"name\": \"LSL \", \"type\": \"scatter\", \"x\": [\"2020-08-20T09:00:00\", \"2020-08-22T17:00:00\", \"2020-08-24T12:00:00\", \"2020-08-24T18:00:00\", \"2020-08-27T08:00:00\", \"2020-08-28T17:00:00\", \"2020-08-29T12:00:00\", \"2020-08-31T16:00:00\", \"2020-09-07T09:00:00\", \"2020-09-08T20:00:00\"], \"xaxis\": \"x\", \"y\": [3.700000047683716, 3.700000047683716, 3.700000047683716, 3.700000047683716, 3.700000047683716, 3.700000047683716, 3.700000047683716, 3.700000047683716, 3.700000047683716, 3.700000047683716], \"yaxis\": \"y\"}, {\"line\": {\"color\": \"#33C2FF\"}, \"mode\": \"lines\", \"name\": \"UCL \", \"type\": \"scatter\", \"x\": [\"2020-08-20T09:00:00\", \"2020-08-22T17:00:00\", \"2020-08-24T12:00:00\", \"2020-08-24T18:00:00\", \"2020-08-27T08:00:00\", \"2020-08-28T17:00:00\", \"2020-08-29T12:00:00\", \"2020-08-31T16:00:00\", \"2020-09-07T09:00:00\", \"2020-09-08T20:00:00\"], \"xaxis\": \"x\", \"y\": [3.73, 3.73, 3.73, 3.73, 3.73, 3.73, 3.73, 3.73, 3.73, 3.73], \"yaxis\": \"y\"}, {\"line\": {\"color\": \"#33C2FF\"}, \"mode\": \"lines\", \"name\": \"LCL \", \"type\": \"scatter\", \"x\": [\"2020-08-20T09:00:00\", \"2020-08-22T17:00:00\", \"2020-08-24T12:00:00\", \"2020-08-24T18:00:00\", \"2020-08-27T08:00:00\", \"2020-08-28T17:00:00\", \"2020-08-29T12:00:00\", \"2020-08-31T16:00:00\", \"2020-09-07T09:00:00\", \"2020-09-08T20:00:00\"], \"xaxis\": \"x\", \"y\": [3.6970000000000005, 3.6970000000000005, 3.6970000000000005, 3.6970000000000005, 3.6970000000000005, 3.6970000000000005, 3.6970000000000005, 3.6970000000000005, 3.6970000000000005, 3.6970000000000005], \"yaxis\": \"y\"}, {\"line\": {\"color\": \"#33C2FF\"}, \"mode\": \"lines\", \"name\": \"Mean \", \"type\": \"scatter\", \"x\": [\"2020-08-20T09:00:00\", \"2020-08-22T17:00:00\", \"2020-08-24T12:00:00\", \"2020-08-24T18:00:00\", \"2020-08-27T08:00:00\", \"2020-08-28T17:00:00\", \"2020-08-29T12:00:00\", \"2020-08-31T16:00:00\", \"2020-09-07T09:00:00\", \"2020-09-08T20:00:00\"], \"xaxis\": \"x\", \"y\": [3.714, 3.714, 3.714, 3.714, 3.714, 3.714, 3.714, 3.714, 3.714, 3.714], \"yaxis\": \"y\"}, {\"line\": {\"color\": \"#4280F5\"}, \"mode\": \"lines+markers\", \"name\": \"mean \", \"type\": \"scatter\", \"x\": [\"2020-08-20T09:00:00\", \"2020-08-22T17:00:00\", \"2020-08-24T12:00:00\", \"2020-08-24T18:00:00\", \"2020-08-27T08:00:00\", \"2020-08-28T17:00:00\", \"2020-08-29T12:00:00\", \"2020-08-31T16:00:00\", \"2020-09-07T09:00:00\", \"2020-09-08T20:00:00\"], \"xaxis\": \"x2\", \"y\": [7.515666961669922, 7.514333248138428, 7.514999866485596, 7.509666442871094, 7.517000198364258, 7.51366662979126, 7.507333278656006, 7.514666557312012, 7.515666484832764, 7.517666816711426], \"yaxis\": \"y2\"}, {\"line\": {\"color\": \"#FF5733\"}, \"mode\": \"lines\", \"name\": \"USL \", \"type\": \"scatter\", \"x\": [\"2020-08-20T09:00:00\", \"2020-08-22T17:00:00\", \"2020-08-24T12:00:00\", \"2020-08-24T18:00:00\", \"2020-08-27T08:00:00\", \"2020-08-28T17:00:00\", \"2020-08-29T12:00:00\", \"2020-08-31T16:00:00\", \"2020-09-07T09:00:00\", \"2020-09-08T20:00:00\"], \"xaxis\": \"x2\", \"y\": [7.519999980926514, 7.519999980926514, 7.519999980926514, 7.519999980926514, 7.519999980926514, 7.519999980926514, 7.519999980926514, 7.519999980926514, 7.519999980926514, 7.519999980926514], \"yaxis\": \"y2\"}, {\"line\": {\"color\": \"#FF5733\"}, \"mode\": \"lines\", \"name\": \"LSL \", \"type\": \"scatter\", \"x\": [\"2020-08-20T09:00:00\", \"2020-08-22T17:00:00\", \"2020-08-24T12:00:00\", \"2020-08-24T18:00:00\", \"2020-08-27T08:00:00\", \"2020-08-28T17:00:00\", \"2020-08-29T12:00:00\", \"2020-08-31T16:00:00\", \"2020-09-07T09:00:00\", \"2020-09-08T20:00:00\"], \"xaxis\": \"x2\", \"y\": [7.5, 7.5, 7.5, 7.5, 7.5, 7.5, 7.5, 7.5, 7.5, 7.5], \"yaxis\": \"y2\"}, {\"line\": {\"color\": \"#33C2FF\"}, \"mode\": \"lines\", \"name\": \"UCL \", \"type\": \"scatter\", \"x\": [\"2020-08-20T09:00:00\", \"2020-08-22T17:00:00\", \"2020-08-24T12:00:00\", \"2020-08-24T18:00:00\", \"2020-08-27T08:00:00\", \"2020-08-28T17:00:00\", \"2020-08-29T12:00:00\", \"2020-08-31T16:00:00\", \"2020-09-07T09:00:00\", \"2020-09-08T20:00:00\"], \"xaxis\": \"x2\", \"y\": [7.528, 7.528, 7.528, 7.528, 7.528, 7.528, 7.528, 7.528, 7.528, 7.528], \"yaxis\": \"y2\"}, {\"line\": {\"color\": \"#33C2FF\"}, \"mode\": \"lines\", \"name\": \"LCL \", \"type\": \"scatter\", \"x\": [\"2020-08-20T09:00:00\", \"2020-08-22T17:00:00\", \"2020-08-24T12:00:00\", \"2020-08-24T18:00:00\", \"2020-08-27T08:00:00\", \"2020-08-28T17:00:00\", \"2020-08-29T12:00:00\", \"2020-08-31T16:00:00\", \"2020-09-07T09:00:00\", \"2020-09-08T20:00:00\"], \"xaxis\": \"x2\", \"y\": [7.5, 7.5, 7.5, 7.5, 7.5, 7.5, 7.5, 7.5, 7.5, 7.5], \"yaxis\": \"y2\"}, {\"line\": {\"color\": \"#33C2FF\"}, \"mode\": \"lines\", \"name\": \"Mean \", \"type\": \"scatter\", \"x\": [\"2020-08-20T09:00:00\", \"2020-08-22T17:00:00\", \"2020-08-24T12:00:00\", \"2020-08-24T18:00:00\", \"2020-08-27T08:00:00\", \"2020-08-28T17:00:00\", \"2020-08-29T12:00:00\", \"2020-08-31T16:00:00\", \"2020-09-07T09:00:00\", \"2020-09-08T20:00:00\"], \"xaxis\": \"x2\", \"y\": [7.514, 7.514, 7.514, 7.514, 7.514, 7.514, 7.514, 7.514, 7.514, 7.514], \"yaxis\": \"y2\"}, {\"line\": {\"color\": \"#4280F5\"}, \"mode\": \"lines+markers\", \"name\": \"mean \", \"type\": \"scatter\", \"x\": [\"2020-08-20T09:00:00\", \"2020-08-22T17:00:00\", \"2020-08-24T12:00:00\", \"2020-08-24T18:00:00\", \"2020-08-27T08:00:00\", \"2020-08-28T17:00:00\", \"2020-08-29T12:00:00\", \"2020-08-31T16:00:00\", \"2020-09-07T09:00:00\", \"2020-09-08T20:00:00\"], \"xaxis\": \"x3\", \"y\": [0.32600000500679016, 0.3330000042915344, 0.32420000433921814, 0.3229999840259552, 0.3203999996185303, 0.33239999413490295, 0.326200008392334, 0.3294000029563904, 0.32339999079704285, 0.33079999685287476], \"yaxis\": \"y3\"}, {\"line\": {\"color\": \"#FF5733\"}, \"mode\": \"lines\", \"name\": \"USL \", \"type\": \"scatter\", \"x\": [\"2020-08-20T09:00:00\", \"2020-08-22T17:00:00\", \"2020-08-24T12:00:00\", \"2020-08-24T18:00:00\", \"2020-08-27T08:00:00\", \"2020-08-28T17:00:00\", \"2020-08-29T12:00:00\", \"2020-08-31T16:00:00\", \"2020-09-07T09:00:00\", \"2020-09-08T20:00:00\"], \"xaxis\": \"x3\", \"y\": [0.3400000035762787, 0.3400000035762787, 0.3400000035762787, 0.3400000035762787, 0.3400000035762787, 0.3400000035762787, 0.3400000035762787, 0.3400000035762787, 0.3400000035762787, 0.3400000035762787], \"yaxis\": \"y3\"}, {\"line\": {\"color\": \"#FF5733\"}, \"mode\": \"lines\", \"name\": \"LSL \", \"type\": \"scatter\", \"x\": [\"2020-08-20T09:00:00\", \"2020-08-22T17:00:00\", \"2020-08-24T12:00:00\", \"2020-08-24T18:00:00\", \"2020-08-27T08:00:00\", \"2020-08-28T17:00:00\", \"2020-08-29T12:00:00\", \"2020-08-31T16:00:00\", \"2020-09-07T09:00:00\", \"2020-09-08T20:00:00\"], \"xaxis\": \"x3\", \"y\": [0.30000001192092896, 0.30000001192092896, 0.30000001192092896, 0.30000001192092896, 0.30000001192092896, 0.30000001192092896, 0.30000001192092896, 0.30000001192092896, 0.30000001192092896, 0.30000001192092896], \"yaxis\": \"y3\"}, {\"line\": {\"color\": \"#33C2FF\"}, \"mode\": \"lines\", \"name\": \"UCL \", \"type\": \"scatter\", \"x\": [\"2020-08-20T09:00:00\", \"2020-08-22T17:00:00\", \"2020-08-24T12:00:00\", \"2020-08-24T18:00:00\", \"2020-08-27T08:00:00\", \"2020-08-28T17:00:00\", \"2020-08-29T12:00:00\", \"2020-08-31T16:00:00\", \"2020-09-07T09:00:00\", \"2020-09-08T20:00:00\"], \"xaxis\": \"x3\", \"y\": [0.351, 0.351, 0.351, 0.351, 0.351, 0.351, 0.351, 0.351, 0.351, 0.351], \"yaxis\": \"y3\"}, {\"line\": {\"color\": \"#33C2FF\"}, \"mode\": \"lines\", \"name\": \"LCL \", \"type\": \"scatter\", \"x\": [\"2020-08-20T09:00:00\", \"2020-08-22T17:00:00\", \"2020-08-24T12:00:00\", \"2020-08-24T18:00:00\", \"2020-08-27T08:00:00\", \"2020-08-28T17:00:00\", \"2020-08-29T12:00:00\", \"2020-08-31T16:00:00\", \"2020-09-07T09:00:00\", \"2020-09-08T20:00:00\"], \"xaxis\": \"x3\", \"y\": [0.303, 0.303, 0.303, 0.303, 0.303, 0.303, 0.303, 0.303, 0.303, 0.303], \"yaxis\": \"y3\"}, {\"line\": {\"color\": \"#33C2FF\"}, \"mode\": \"lines\", \"name\": \"Mean \", \"type\": \"scatter\", \"x\": [\"2020-08-20T09:00:00\", \"2020-08-22T17:00:00\", \"2020-08-24T12:00:00\", \"2020-08-24T18:00:00\", \"2020-08-27T08:00:00\", \"2020-08-28T17:00:00\", \"2020-08-29T12:00:00\", \"2020-08-31T16:00:00\", \"2020-09-07T09:00:00\", \"2020-09-08T20:00:00\"], \"xaxis\": \"x3\", \"y\": [0.327, 0.327, 0.327, 0.327, 0.327, 0.327, 0.327, 0.327, 0.327, 0.327], \"yaxis\": \"y3\"}, {\"line\": {\"color\": \"#4280F5\"}, \"mode\": \"lines+markers\", \"name\": \"mean \", \"type\": \"scatter\", \"x\": [\"2020-08-20T09:00:00\", \"2020-08-22T17:00:00\", \"2020-08-24T12:00:00\", \"2020-08-24T18:00:00\", \"2020-08-27T08:00:00\", \"2020-08-28T17:00:00\", \"2020-08-29T12:00:00\", \"2020-08-31T16:00:00\", \"2020-09-07T09:00:00\", \"2020-09-08T20:00:00\"], \"xaxis\": \"x4\", \"y\": [0.47380000352859497, 0.47760000824928284, 0.47920000553131104, 0.483599990606308, 0.4758000075817108, 0.4812000095844269, 0.47600001096725464, 0.4765999913215637, 0.4697999954223633, 0.4758000075817108], \"yaxis\": \"y4\"}, {\"line\": {\"color\": \"#FF5733\"}, \"mode\": \"lines\", \"name\": \"USL \", \"type\": \"scatter\", \"x\": [\"2020-08-20T09:00:00\", \"2020-08-22T17:00:00\", \"2020-08-24T12:00:00\", \"2020-08-24T18:00:00\", \"2020-08-27T08:00:00\", \"2020-08-28T17:00:00\", \"2020-08-29T12:00:00\", \"2020-08-31T16:00:00\", \"2020-09-07T09:00:00\", \"2020-09-08T20:00:00\"], \"xaxis\": \"x4\", \"y\": [0.49000000953674316, 0.49000000953674316, 0.49000000953674316, 0.49000000953674316, 0.49000000953674316, 0.49000000953674316, 0.49000000953674316, 0.49000000953674316, 0.49000000953674316, 0.49000000953674316], \"yaxis\": \"y4\"}, {\"line\": {\"color\": \"#FF5733\"}, \"mode\": \"lines\", \"name\": \"LSL \", \"type\": \"scatter\", \"x\": [\"2020-08-20T09:00:00\", \"2020-08-22T17:00:00\", \"2020-08-24T12:00:00\", \"2020-08-24T18:00:00\", \"2020-08-27T08:00:00\", \"2020-08-28T17:00:00\", \"2020-08-29T12:00:00\", \"2020-08-31T16:00:00\", \"2020-09-07T09:00:00\", \"2020-09-08T20:00:00\"], \"xaxis\": \"x4\", \"y\": [0.44999998807907104, 0.44999998807907104, 0.44999998807907104, 0.44999998807907104, 0.44999998807907104, 0.44999998807907104, 0.44999998807907104, 0.44999998807907104, 0.44999998807907104, 0.44999998807907104], \"yaxis\": \"y4\"}, {\"line\": {\"color\": \"#33C2FF\"}, \"mode\": \"lines\", \"name\": \"UCL \", \"type\": \"scatter\", \"x\": [\"2020-08-20T09:00:00\", \"2020-08-22T17:00:00\", \"2020-08-24T12:00:00\", \"2020-08-24T18:00:00\", \"2020-08-27T08:00:00\", \"2020-08-28T17:00:00\", \"2020-08-29T12:00:00\", \"2020-08-31T16:00:00\", \"2020-09-07T09:00:00\", \"2020-09-08T20:00:00\"], \"xaxis\": \"x4\", \"y\": [0.499, 0.499, 0.499, 0.499, 0.499, 0.499, 0.499, 0.499, 0.499, 0.499], \"yaxis\": \"y4\"}, {\"line\": {\"color\": \"#33C2FF\"}, \"mode\": \"lines\", \"name\": \"LCL \", \"type\": \"scatter\", \"x\": [\"2020-08-20T09:00:00\", \"2020-08-22T17:00:00\", \"2020-08-24T12:00:00\", \"2020-08-24T18:00:00\", \"2020-08-27T08:00:00\", \"2020-08-28T17:00:00\", \"2020-08-29T12:00:00\", \"2020-08-31T16:00:00\", \"2020-09-07T09:00:00\", \"2020-09-08T20:00:00\"], \"xaxis\": \"x4\", \"y\": [0.45499999999999996, 0.45499999999999996, 0.45499999999999996, 0.45499999999999996, 0.45499999999999996, 0.45499999999999996, 0.45499999999999996, 0.45499999999999996, 0.45499999999999996, 0.45499999999999996], \"yaxis\": \"y4\"}, {\"line\": {\"color\": \"#33C2FF\"}, \"mode\": \"lines\", \"name\": \"Mean \", \"type\": \"scatter\", \"x\": [\"2020-08-20T09:00:00\", \"2020-08-22T17:00:00\", \"2020-08-24T12:00:00\", \"2020-08-24T18:00:00\", \"2020-08-27T08:00:00\", \"2020-08-28T17:00:00\", \"2020-08-29T12:00:00\", \"2020-08-31T16:00:00\", \"2020-09-07T09:00:00\", \"2020-09-08T20:00:00\"], \"xaxis\": \"x4\", \"y\": [0.477, 0.477, 0.477, 0.477, 0.477, 0.477, 0.477, 0.477, 0.477, 0.477], \"yaxis\": \"y4\"}, {\"line\": {\"color\": \"#4280F5\"}, \"mode\": \"lines+markers\", \"name\": \"mean \", \"type\": \"scatter\", \"x\": [\"2020-08-20T09:00:00\", \"2020-08-22T16:00:00\", \"2020-08-22T17:00:00\", \"2020-08-24T12:00:00\", \"2020-08-24T17:00:00\", \"2020-08-24T18:00:00\", \"2020-08-27T08:00:00\", \"2020-08-28T17:00:00\", \"2020-08-29T12:00:00\", \"2020-08-31T16:00:00\", \"2020-09-07T09:00:00\", \"2020-09-08T20:00:00\"], \"xaxis\": \"x5\", \"y\": [0.04933333396911621, 0.026000000536441803, 0.029200000688433647, 0.030666666105389595, 0.00800000037997961, 0.02239999920129776, 0.011666666716337204, 0.03316666558384895, 0.028833333402872086, 0.033666666597127914, 0.019999999552965164, 0.047333333641290665], \"yaxis\": \"y5\"}, {\"line\": {\"color\": \"#FF5733\"}, \"mode\": \"lines\", \"name\": \"USL \", \"type\": \"scatter\", \"x\": [\"2020-08-20T09:00:00\", \"2020-08-22T16:00:00\", \"2020-08-22T17:00:00\", \"2020-08-24T12:00:00\", \"2020-08-24T17:00:00\", \"2020-08-24T18:00:00\", \"2020-08-27T08:00:00\", \"2020-08-28T17:00:00\", \"2020-08-29T12:00:00\", \"2020-08-31T16:00:00\", \"2020-09-07T09:00:00\", \"2020-09-08T20:00:00\"], \"xaxis\": \"x5\", \"y\": [0.05999999865889549, 0.05999999865889549, 0.05999999865889549, 0.05999999865889549, 0.05999999865889549, 0.05999999865889549, 0.05999999865889549, 0.05999999865889549, 0.05999999865889549, 0.05999999865889549, 0.05999999865889549, 0.05999999865889549], \"yaxis\": \"y5\"}, {\"line\": {\"color\": \"#FF5733\"}, \"mode\": \"lines\", \"name\": \"LSL \", \"type\": \"scatter\", \"x\": [\"2020-08-20T09:00:00\", \"2020-08-22T16:00:00\", \"2020-08-22T17:00:00\", \"2020-08-24T12:00:00\", \"2020-08-24T17:00:00\", \"2020-08-24T18:00:00\", \"2020-08-27T08:00:00\", \"2020-08-28T17:00:00\", \"2020-08-29T12:00:00\", \"2020-08-31T16:00:00\", \"2020-09-07T09:00:00\", \"2020-09-08T20:00:00\"], \"xaxis\": \"x5\", \"y\": [null, null, null, null, null, null, null, null, null, null, null, null], \"yaxis\": \"y5\"}, {\"line\": {\"color\": \"#33C2FF\"}, \"mode\": \"lines\", \"name\": \"UCL \", \"type\": \"scatter\", \"x\": [\"2020-08-20T09:00:00\", \"2020-08-22T16:00:00\", \"2020-08-22T17:00:00\", \"2020-08-24T12:00:00\", \"2020-08-24T17:00:00\", \"2020-08-24T18:00:00\", \"2020-08-27T08:00:00\", \"2020-08-28T17:00:00\", \"2020-08-29T12:00:00\", \"2020-08-31T16:00:00\", \"2020-09-07T09:00:00\", \"2020-09-08T20:00:00\"], \"xaxis\": \"x5\", \"y\": [0.081, 0.081, 0.081, 0.081, 0.081, 0.081, 0.081, 0.081, 0.081, 0.081, 0.081, 0.081], \"yaxis\": \"y5\"}, {\"line\": {\"color\": \"#33C2FF\"}, \"mode\": \"lines\", \"name\": \"LCL \", \"type\": \"scatter\", \"x\": [\"2020-08-20T09:00:00\", \"2020-08-22T16:00:00\", \"2020-08-22T17:00:00\", \"2020-08-24T12:00:00\", \"2020-08-24T17:00:00\", \"2020-08-24T18:00:00\", \"2020-08-27T08:00:00\", \"2020-08-28T17:00:00\", \"2020-08-29T12:00:00\", \"2020-08-31T16:00:00\", \"2020-09-07T09:00:00\", \"2020-09-08T20:00:00\"], \"xaxis\": \"x5\", \"y\": [-0.02, -0.02, -0.02, -0.02, -0.02, -0.02, -0.02, -0.02, -0.02, -0.02, -0.02, -0.02], \"yaxis\": \"y5\"}, {\"line\": {\"color\": \"#33C2FF\"}, \"mode\": \"lines\", \"name\": \"Mean \", \"type\": \"scatter\", \"x\": [\"2020-08-20T09:00:00\", \"2020-08-22T16:00:00\", \"2020-08-22T17:00:00\", \"2020-08-24T12:00:00\", \"2020-08-24T17:00:00\", \"2020-08-24T18:00:00\", \"2020-08-27T08:00:00\", \"2020-08-28T17:00:00\", \"2020-08-29T12:00:00\", \"2020-08-31T16:00:00\", \"2020-09-07T09:00:00\", \"2020-09-08T20:00:00\"], \"xaxis\": \"x5\", \"y\": [0.03, 0.03, 0.03, 0.03, 0.03, 0.03, 0.03, 0.03, 0.03, 0.03, 0.03, 0.03], \"yaxis\": \"y5\"}],\n",
       "                        {\"height\": 1000, \"template\": {\"data\": {\"bar\": [{\"error_x\": {\"color\": \"#2a3f5f\"}, \"error_y\": {\"color\": \"#2a3f5f\"}, \"marker\": {\"line\": {\"color\": \"#E5ECF6\", \"width\": 0.5}}, \"type\": \"bar\"}], \"barpolar\": [{\"marker\": {\"line\": {\"color\": \"#E5ECF6\", \"width\": 0.5}}, \"type\": \"barpolar\"}], \"carpet\": [{\"aaxis\": {\"endlinecolor\": \"#2a3f5f\", \"gridcolor\": \"white\", \"linecolor\": \"white\", \"minorgridcolor\": \"white\", \"startlinecolor\": \"#2a3f5f\"}, \"baxis\": {\"endlinecolor\": \"#2a3f5f\", \"gridcolor\": \"white\", \"linecolor\": \"white\", \"minorgridcolor\": \"white\", \"startlinecolor\": \"#2a3f5f\"}, \"type\": \"carpet\"}], \"choropleth\": [{\"colorbar\": {\"outlinewidth\": 0, \"ticks\": \"\"}, \"type\": \"choropleth\"}], \"contour\": [{\"colorbar\": {\"outlinewidth\": 0, \"ticks\": \"\"}, \"colorscale\": [[0.0, \"#0d0887\"], [0.1111111111111111, \"#46039f\"], [0.2222222222222222, \"#7201a8\"], [0.3333333333333333, \"#9c179e\"], [0.4444444444444444, \"#bd3786\"], [0.5555555555555556, \"#d8576b\"], [0.6666666666666666, \"#ed7953\"], [0.7777777777777778, \"#fb9f3a\"], [0.8888888888888888, \"#fdca26\"], [1.0, \"#f0f921\"]], \"type\": \"contour\"}], \"contourcarpet\": [{\"colorbar\": {\"outlinewidth\": 0, \"ticks\": \"\"}, \"type\": \"contourcarpet\"}], \"heatmap\": [{\"colorbar\": {\"outlinewidth\": 0, \"ticks\": \"\"}, \"colorscale\": [[0.0, \"#0d0887\"], [0.1111111111111111, \"#46039f\"], [0.2222222222222222, \"#7201a8\"], [0.3333333333333333, \"#9c179e\"], [0.4444444444444444, \"#bd3786\"], [0.5555555555555556, \"#d8576b\"], [0.6666666666666666, \"#ed7953\"], [0.7777777777777778, \"#fb9f3a\"], [0.8888888888888888, \"#fdca26\"], [1.0, \"#f0f921\"]], \"type\": \"heatmap\"}], \"heatmapgl\": [{\"colorbar\": {\"outlinewidth\": 0, \"ticks\": \"\"}, \"colorscale\": [[0.0, \"#0d0887\"], [0.1111111111111111, \"#46039f\"], [0.2222222222222222, \"#7201a8\"], [0.3333333333333333, \"#9c179e\"], [0.4444444444444444, \"#bd3786\"], [0.5555555555555556, \"#d8576b\"], [0.6666666666666666, \"#ed7953\"], [0.7777777777777778, \"#fb9f3a\"], [0.8888888888888888, \"#fdca26\"], [1.0, \"#f0f921\"]], \"type\": \"heatmapgl\"}], \"histogram\": [{\"marker\": {\"colorbar\": {\"outlinewidth\": 0, \"ticks\": \"\"}}, \"type\": \"histogram\"}], \"histogram2d\": [{\"colorbar\": {\"outlinewidth\": 0, \"ticks\": \"\"}, \"colorscale\": [[0.0, \"#0d0887\"], [0.1111111111111111, \"#46039f\"], [0.2222222222222222, \"#7201a8\"], [0.3333333333333333, \"#9c179e\"], [0.4444444444444444, \"#bd3786\"], [0.5555555555555556, \"#d8576b\"], [0.6666666666666666, \"#ed7953\"], [0.7777777777777778, \"#fb9f3a\"], [0.8888888888888888, \"#fdca26\"], [1.0, \"#f0f921\"]], \"type\": \"histogram2d\"}], \"histogram2dcontour\": [{\"colorbar\": {\"outlinewidth\": 0, \"ticks\": \"\"}, \"colorscale\": [[0.0, \"#0d0887\"], [0.1111111111111111, \"#46039f\"], [0.2222222222222222, \"#7201a8\"], [0.3333333333333333, \"#9c179e\"], [0.4444444444444444, \"#bd3786\"], [0.5555555555555556, \"#d8576b\"], [0.6666666666666666, \"#ed7953\"], [0.7777777777777778, \"#fb9f3a\"], [0.8888888888888888, \"#fdca26\"], [1.0, \"#f0f921\"]], \"type\": \"histogram2dcontour\"}], \"mesh3d\": [{\"colorbar\": {\"outlinewidth\": 0, \"ticks\": \"\"}, \"type\": \"mesh3d\"}], \"parcoords\": [{\"line\": {\"colorbar\": {\"outlinewidth\": 0, \"ticks\": \"\"}}, \"type\": \"parcoords\"}], \"pie\": [{\"automargin\": true, \"type\": \"pie\"}], \"scatter\": [{\"marker\": {\"colorbar\": {\"outlinewidth\": 0, \"ticks\": \"\"}}, \"type\": \"scatter\"}], \"scatter3d\": [{\"line\": {\"colorbar\": {\"outlinewidth\": 0, \"ticks\": \"\"}}, \"marker\": {\"colorbar\": {\"outlinewidth\": 0, \"ticks\": \"\"}}, \"type\": \"scatter3d\"}], \"scattercarpet\": [{\"marker\": {\"colorbar\": {\"outlinewidth\": 0, \"ticks\": \"\"}}, \"type\": \"scattercarpet\"}], \"scattergeo\": [{\"marker\": {\"colorbar\": {\"outlinewidth\": 0, \"ticks\": \"\"}}, \"type\": \"scattergeo\"}], \"scattergl\": [{\"marker\": {\"colorbar\": {\"outlinewidth\": 0, \"ticks\": \"\"}}, \"type\": \"scattergl\"}], \"scattermapbox\": [{\"marker\": {\"colorbar\": {\"outlinewidth\": 0, \"ticks\": \"\"}}, \"type\": \"scattermapbox\"}], \"scatterpolar\": [{\"marker\": {\"colorbar\": {\"outlinewidth\": 0, \"ticks\": \"\"}}, \"type\": \"scatterpolar\"}], \"scatterpolargl\": [{\"marker\": {\"colorbar\": {\"outlinewidth\": 0, \"ticks\": \"\"}}, \"type\": \"scatterpolargl\"}], \"scatterternary\": [{\"marker\": {\"colorbar\": {\"outlinewidth\": 0, \"ticks\": \"\"}}, \"type\": \"scatterternary\"}], \"surface\": [{\"colorbar\": {\"outlinewidth\": 0, \"ticks\": \"\"}, \"colorscale\": [[0.0, \"#0d0887\"], [0.1111111111111111, \"#46039f\"], [0.2222222222222222, \"#7201a8\"], [0.3333333333333333, \"#9c179e\"], [0.4444444444444444, \"#bd3786\"], [0.5555555555555556, \"#d8576b\"], [0.6666666666666666, \"#ed7953\"], [0.7777777777777778, \"#fb9f3a\"], [0.8888888888888888, \"#fdca26\"], [1.0, \"#f0f921\"]], \"type\": \"surface\"}], \"table\": [{\"cells\": {\"fill\": {\"color\": \"#EBF0F8\"}, \"line\": {\"color\": \"white\"}}, \"header\": {\"fill\": {\"color\": \"#C8D4E3\"}, \"line\": {\"color\": \"white\"}}, \"type\": \"table\"}]}, \"layout\": {\"annotationdefaults\": {\"arrowcolor\": \"#2a3f5f\", \"arrowhead\": 0, \"arrowwidth\": 1}, \"coloraxis\": {\"colorbar\": {\"outlinewidth\": 0, \"ticks\": \"\"}}, \"colorscale\": {\"diverging\": [[0, \"#8e0152\"], [0.1, \"#c51b7d\"], [0.2, \"#de77ae\"], [0.3, \"#f1b6da\"], [0.4, \"#fde0ef\"], [0.5, \"#f7f7f7\"], [0.6, \"#e6f5d0\"], [0.7, \"#b8e186\"], [0.8, \"#7fbc41\"], [0.9, \"#4d9221\"], [1, \"#276419\"]], \"sequential\": [[0.0, \"#0d0887\"], [0.1111111111111111, \"#46039f\"], [0.2222222222222222, \"#7201a8\"], [0.3333333333333333, \"#9c179e\"], [0.4444444444444444, \"#bd3786\"], [0.5555555555555556, \"#d8576b\"], [0.6666666666666666, \"#ed7953\"], [0.7777777777777778, \"#fb9f3a\"], [0.8888888888888888, \"#fdca26\"], [1.0, \"#f0f921\"]], \"sequentialminus\": [[0.0, \"#0d0887\"], [0.1111111111111111, \"#46039f\"], [0.2222222222222222, \"#7201a8\"], [0.3333333333333333, \"#9c179e\"], [0.4444444444444444, \"#bd3786\"], [0.5555555555555556, \"#d8576b\"], [0.6666666666666666, \"#ed7953\"], [0.7777777777777778, \"#fb9f3a\"], [0.8888888888888888, \"#fdca26\"], [1.0, \"#f0f921\"]]}, \"colorway\": [\"#636efa\", \"#EF553B\", \"#00cc96\", \"#ab63fa\", \"#FFA15A\", \"#19d3f3\", \"#FF6692\", \"#B6E880\", \"#FF97FF\", \"#FECB52\"], \"font\": {\"color\": \"#2a3f5f\"}, \"geo\": {\"bgcolor\": \"white\", \"lakecolor\": \"white\", \"landcolor\": \"#E5ECF6\", \"showlakes\": true, \"showland\": true, \"subunitcolor\": \"white\"}, \"hoverlabel\": {\"align\": \"left\"}, \"hovermode\": \"closest\", \"mapbox\": {\"style\": \"light\"}, \"paper_bgcolor\": \"white\", \"plot_bgcolor\": \"#E5ECF6\", \"polar\": {\"angularaxis\": {\"gridcolor\": \"white\", \"linecolor\": \"white\", \"ticks\": \"\"}, \"bgcolor\": \"#E5ECF6\", \"radialaxis\": {\"gridcolor\": \"white\", \"linecolor\": \"white\", \"ticks\": \"\"}}, \"scene\": {\"xaxis\": {\"backgroundcolor\": \"#E5ECF6\", \"gridcolor\": \"white\", \"gridwidth\": 2, \"linecolor\": \"white\", \"showbackground\": true, \"ticks\": \"\", \"zerolinecolor\": \"white\"}, \"yaxis\": {\"backgroundcolor\": \"#E5ECF6\", \"gridcolor\": \"white\", \"gridwidth\": 2, \"linecolor\": \"white\", \"showbackground\": true, \"ticks\": \"\", \"zerolinecolor\": \"white\"}, \"zaxis\": {\"backgroundcolor\": \"#E5ECF6\", \"gridcolor\": \"white\", \"gridwidth\": 2, \"linecolor\": \"white\", \"showbackground\": true, \"ticks\": \"\", \"zerolinecolor\": \"white\"}}, \"shapedefaults\": {\"line\": {\"color\": \"#2a3f5f\"}}, \"ternary\": {\"aaxis\": {\"gridcolor\": \"white\", \"linecolor\": \"white\", \"ticks\": \"\"}, \"baxis\": {\"gridcolor\": \"white\", \"linecolor\": \"white\", \"ticks\": \"\"}, \"bgcolor\": \"#E5ECF6\", \"caxis\": {\"gridcolor\": \"white\", \"linecolor\": \"white\", \"ticks\": \"\"}}, \"title\": {\"x\": 0.05}, \"xaxis\": {\"automargin\": true, \"gridcolor\": \"white\", \"linecolor\": \"white\", \"ticks\": \"\", \"title\": {\"standoff\": 15}, \"zerolinecolor\": \"white\", \"zerolinewidth\": 2}, \"yaxis\": {\"automargin\": true, \"gridcolor\": \"white\", \"linecolor\": \"white\", \"ticks\": \"\", \"title\": {\"standoff\": 15}, \"zerolinecolor\": \"white\", \"zerolinewidth\": 2}}}, \"title\": {\"text\": \"Process: 39682\"}, \"width\": 1200, \"xaxis\": {\"anchor\": \"y\", \"domain\": [0.0, 1.0]}, \"xaxis2\": {\"anchor\": \"y2\", \"domain\": [0.0, 1.0]}, \"xaxis3\": {\"anchor\": \"y3\", \"domain\": [0.0, 1.0]}, \"xaxis4\": {\"anchor\": \"y4\", \"domain\": [0.0, 1.0]}, \"xaxis5\": {\"anchor\": \"y5\", \"domain\": [0.0, 1.0]}, \"yaxis\": {\"anchor\": \"x\", \"domain\": [0.88, 1.0]}, \"yaxis2\": {\"anchor\": \"x2\", \"domain\": [0.66, 0.78]}, \"yaxis3\": {\"anchor\": \"x3\", \"domain\": [0.44, 0.56]}, \"yaxis4\": {\"anchor\": \"x4\", \"domain\": [0.22, 0.33999999999999997]}, \"yaxis5\": {\"anchor\": \"x5\", \"domain\": [0.0, 0.12]}},\n",
       "                        {\"responsive\": true}\n",
       "                    ).then(function(){\n",
       "                            \n",
       "var gd = document.getElementById('69e7662d-308c-4e26-800b-68f3ee2938d7');\n",
       "var x = new MutationObserver(function (mutations, observer) {{\n",
       "        var display = window.getComputedStyle(gd).display;\n",
       "        if (!display || display === 'none') {{\n",
       "            console.log([gd, 'removed!']);\n",
       "            Plotly.purge(gd);\n",
       "            observer.disconnect();\n",
       "        }}\n",
       "}});\n",
       "\n",
       "// Listen for the removal of the full notebook cells\n",
       "var notebookContainer = gd.closest('#notebook-container');\n",
       "if (notebookContainer) {{\n",
       "    x.observe(notebookContainer, {childList: true});\n",
       "}}\n",
       "\n",
       "// Listen for the clearing of the current output cell\n",
       "var outputEl = gd.closest('.output');\n",
       "if (outputEl) {{\n",
       "    x.observe(outputEl, {childList: true});\n",
       "}}\n",
       "\n",
       "                        })\n",
       "                };\n",
       "                });\n",
       "            </script>\n",
       "        </div>"
      ]
     },
     "metadata": {},
     "output_type": "display_data"
    }
   ],
   "source": [
    "configure_plotly_browser_state()\n",
    "start_date=\"\"\n",
    "end_date=\"\"\n",
    "#@st.cache(suppress_st_warning=True,allow_output_mutation=True)\n",
    "#@st.cache(suppress_st_warning=True,allow_output_mutation=True)\n",
    "process_select=['39682']\n",
    "def line_chart(process_select):\n",
    "    fig_all=[]\n",
    "    for process_name in process_select:\n",
    "      df_dict=final_data[process_name] # process name\n",
    "      i=1\n",
    "      #Layout\n",
    "      fig = make_subplots(          # Dim name\n",
    "          rows=len(df_dict), cols=1,\n",
    "          #shared_xaxes=True, # share same axis\n",
    "          #vertical_spacing=0.05, # adjust spacing between charts\n",
    "          #column_widths=[0.8, 0.2],\n",
    "          subplot_titles=(name_list_dict[process_name]) # dict with key is process name and value is list of dim (contain name, cp, cpk...)\n",
    "      )\n",
    "      for name in list(df_dict.keys()): #also group\n",
    "        df=df_dict[name].copy()\n",
    "        df=df.sort_values(by=['Hour'])\n",
    "        for a in df.columns[1:]:\n",
    "          df[a] = df[a].round(decimals=3)\n",
    "        df=df.reset_index(drop=True)\n",
    "        # Draw control chart\n",
    "        df_group=df.groupby('Hour').mean()\n",
    "        #df=df.set_index('Date')\n",
    "        if start_date != '' and end_date != '':\n",
    "            df_group=df_group[start_date:end_date]\n",
    "        #Control chart 1 \n",
    "        fig.append_trace(go.Scatter(\n",
    "                                x=df_group.index, y=df_group['Value'],mode='lines+markers',\n",
    "                                name='mean ', \n",
    "                                line=dict( color='#4280F5')\n",
    "                                ),row=i, col=1)\n",
    "        #USL, LSL\n",
    "        fig.append_trace(go.Scatter(x=df_group.index, y=df_group['USL'],name='USL ', line=dict( color='#FF5733'),mode='lines'),row=i, col=1)\n",
    "        fig.append_trace(go.Scatter(x=df_group.index, y=df_group['LSL'],name='LSL ',line=dict( color='#FF5733'),mode='lines'),row=i, col=1)\n",
    "        #fig.append_trace(go.Scatter(x=df_group.index, y=df_group['Mean'],name='Nominal ',line=dict( color='#FF5733'),mode='lines'),row=i, col=1)\n",
    "        # UCL, LCL\n",
    "        fig.append_trace(go.Scatter(x=df_group.index, y=df_group['UCL'],name='UCL ', line=dict( color='#33C2FF'),mode='lines'),row=i, col=1)\n",
    "        fig.append_trace(go.Scatter(x=df_group.index, y=df_group['LCL'],name='LCL ', line=dict( color='#33C2FF'),mode='lines'),row=i, col=1)\n",
    "        fig.append_trace(go.Scatter(x=df_group.index, y=df_group['Mean'],name='Mean ', line=dict( color='#33C2FF'),mode='lines'),row=i, col=1)\n",
    "        i=i+1\n",
    "\n",
    "      if len(df_dict)>1:\n",
    "        fig.update_layout(height=200*len(df_dict), width=1200, title_text='Process: '+process_name)\n",
    "      else:\n",
    "        fig.update_layout(height=300, width=1200, title_text='Process: '+process_name)\n",
    "      #fig update each process (contain a lot of dim inside)\n",
    "      #fig.show()\n",
    "      fig_all.append(fig)  \n",
    "    return fig_all # fig nay chi la 1 process cuoi cung thoi, lam sao return toan bo fig ?\n",
    "fig_all=line_chart(process_select)  \n",
    "for fig in fig_all:\n",
    "    fig.show()"
   ]
  },
  {
   "cell_type": "code",
   "execution_count": null,
   "metadata": {},
   "outputs": [],
   "source": []
  }
 ],
 "metadata": {
  "kernelspec": {
   "display_name": "Python 3",
   "language": "python",
   "name": "python3"
  },
  "language_info": {
   "codemirror_mode": {
    "name": "ipython",
    "version": 3
   },
   "file_extension": ".py",
   "mimetype": "text/x-python",
   "name": "python",
   "nbconvert_exporter": "python",
   "pygments_lexer": "ipython3",
   "version": "3.8.3"
  }
 },
 "nbformat": 4,
 "nbformat_minor": 4
}
